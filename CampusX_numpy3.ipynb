{
 "cells": [
  {
   "cell_type": "code",
   "execution_count": 1,
   "id": "7fd467bf-c458-450b-8ac2-adcf899548c4",
   "metadata": {},
   "outputs": [
    {
     "data": {
      "text/plain": [
       "array([33, 48, 85, 68, 56, 78, 94,  3, 46, 18, 16, 34, 59, 62, 30])"
      ]
     },
     "execution_count": 1,
     "metadata": {},
     "output_type": "execute_result"
    }
   ],
   "source": [
    "import numpy as np\n",
    "a = np.random.randint(1, 100, 15)\n",
    "a"
   ]
  },
  {
   "cell_type": "code",
   "execution_count": 2,
   "id": "715df5b6-6ce7-423a-860e-a7d63e9994c7",
   "metadata": {},
   "outputs": [
    {
     "data": {
      "text/plain": [
       "array([ 3, 16, 18, 30, 33, 34, 46, 48, 56, 59, 62, 68, 78, 85, 94])"
      ]
     },
     "execution_count": 2,
     "metadata": {},
     "output_type": "execute_result"
    }
   ],
   "source": [
    "np.sort(a)"
   ]
  },
  {
   "cell_type": "code",
   "execution_count": 7,
   "id": "ebc586d2-896a-4693-9e40-74c2ce751b96",
   "metadata": {},
   "outputs": [
    {
     "data": {
      "text/plain": [
       "array([[98, 94, 49, 32],\n",
       "       [12, 66, 92, 61],\n",
       "       [69, 90, 60, 37],\n",
       "       [19, 66, 69, 46],\n",
       "       [82, 29,  7, 19],\n",
       "       [85, 31, 56, 68]])"
      ]
     },
     "execution_count": 7,
     "metadata": {},
     "output_type": "execute_result"
    }
   ],
   "source": [
    "b = np.random.randint(1, 100, 24).reshape(6, 4)\n",
    "b"
   ]
  },
  {
   "cell_type": "code",
   "execution_count": 8,
   "id": "025a663c-44da-41b2-ad09-68278b478d80",
   "metadata": {},
   "outputs": [
    {
     "data": {
      "text/plain": [
       "array([[32, 49, 94, 98],\n",
       "       [12, 61, 66, 92],\n",
       "       [37, 60, 69, 90],\n",
       "       [19, 46, 66, 69],\n",
       "       [ 7, 19, 29, 82],\n",
       "       [31, 56, 68, 85]])"
      ]
     },
     "execution_count": 8,
     "metadata": {},
     "output_type": "execute_result"
    }
   ],
   "source": [
    "np.sort(b) #ITS ROW-WISE SORTING IN EACH ROW"
   ]
  },
  {
   "cell_type": "code",
   "execution_count": 6,
   "id": "ca040ae4-71db-46d7-a37c-c0c745aef051",
   "metadata": {},
   "outputs": [
    {
     "data": {
      "text/plain": [
       "array([[19, 28, 24,  7],\n",
       "       [42, 38, 24, 15],\n",
       "       [50, 44, 25, 72],\n",
       "       [70, 47, 33, 74],\n",
       "       [76, 62, 37, 83],\n",
       "       [90, 93, 77, 89]])"
      ]
     },
     "execution_count": 6,
     "metadata": {},
     "output_type": "execute_result"
    }
   ],
   "source": [
    "np.sort(b, axis = 0)"
   ]
  },
  {
   "cell_type": "code",
   "execution_count": 12,
   "id": "47c682bc-04f4-447d-87af-dda0109772b9",
   "metadata": {},
   "outputs": [
    {
     "data": {
      "text/plain": [
       "array([94, 85, 78, 68, 62, 59, 56, 48, 46, 34, 33, 30, 18, 16,  3])"
      ]
     },
     "execution_count": 12,
     "metadata": {},
     "output_type": "execute_result"
    }
   ],
   "source": [
    "np.sort(a)[::-1] # FOR REVERSE SORT"
   ]
  },
  {
   "cell_type": "code",
   "execution_count": 13,
   "id": "b820b55d-58b7-46ff-a4f4-c56f87111b4f",
   "metadata": {},
   "outputs": [
    {
     "data": {
      "text/plain": [
       "array([[31, 56, 68, 85],\n",
       "       [ 7, 19, 29, 82],\n",
       "       [19, 46, 66, 69],\n",
       "       [37, 60, 69, 90],\n",
       "       [12, 61, 66, 92],\n",
       "       [32, 49, 94, 98]])"
      ]
     },
     "execution_count": 13,
     "metadata": {},
     "output_type": "execute_result"
    }
   ],
   "source": [
    "np.sort(b)[::-1]"
   ]
  },
  {
   "cell_type": "code",
   "execution_count": 19,
   "id": "f81a0f2e-2d0b-47d6-9d42-9ff1226bc905",
   "metadata": {},
   "outputs": [
    {
     "data": {
      "text/plain": [
       "array([2387,   33,   48,   85,   68,   56,   78,   94,    3,   46,   18,\n",
       "         16,   34,   59,   62,   30])"
      ]
     },
     "execution_count": 19,
     "metadata": {},
     "output_type": "execute_result"
    }
   ],
   "source": [
    "np.append(2387, a) #append at start"
   ]
  },
  {
   "cell_type": "code",
   "execution_count": 20,
   "id": "a88dbf81-51cb-4138-bc00-8419c25346ca",
   "metadata": {},
   "outputs": [
    {
     "data": {
      "text/plain": [
       "array([   33,    48,    85,    68,    56,    78,    94,     3,    46,\n",
       "          18,    16,    34,    59,    62,    30, 83865])"
      ]
     },
     "execution_count": 20,
     "metadata": {},
     "output_type": "execute_result"
    }
   ],
   "source": [
    "np.append(a, 83865) #append at end"
   ]
  },
  {
   "cell_type": "code",
   "execution_count": 27,
   "id": "ecf6fe8d-441e-4099-b75f-0f2f052df147",
   "metadata": {},
   "outputs": [
    {
     "data": {
      "text/plain": [
       "array([[98., 94., 49., 32.,  1.],\n",
       "       [12., 66., 92., 61.,  1.],\n",
       "       [69., 90., 60., 37.,  1.],\n",
       "       [19., 66., 69., 46.,  1.],\n",
       "       [82., 29.,  7., 19.,  1.],\n",
       "       [85., 31., 56., 68.,  1.]])"
      ]
     },
     "execution_count": 27,
     "metadata": {},
     "output_type": "execute_result"
    }
   ],
   "source": [
    "# TO ADD 1 AT THE END OF EACH ROW \n",
    "toadd = np.ones((b.shape[0], 1))\n",
    "np.append(b, toadd, axis = 1)"
   ]
  },
  {
   "cell_type": "code",
   "execution_count": 28,
   "id": "d569f620-aab6-4574-b8b2-e03288e76731",
   "metadata": {},
   "outputs": [
    {
     "data": {
      "text/plain": [
       "array([[98.        , 94.        , 49.        , 32.        ,  0.11343641],\n",
       "       [12.        , 66.        , 92.        , 61.        ,  0.0991471 ],\n",
       "       [69.        , 90.        , 60.        , 37.        ,  0.3429672 ],\n",
       "       [19.        , 66.        , 69.        , 46.        ,  0.4098459 ],\n",
       "       [82.        , 29.        ,  7.        , 19.        ,  0.75295128],\n",
       "       [85.        , 31.        , 56.        , 68.        ,  0.32411505]])"
      ]
     },
     "execution_count": 28,
     "metadata": {},
     "output_type": "execute_result"
    }
   ],
   "source": [
    "# TO ADD random AT THE END OF EACH ROW \n",
    "toadd = np.random.random((b.shape[0], 1))\n",
    "np.append(b, toadd, axis = 1)"
   ]
  },
  {
   "cell_type": "markdown",
   "id": "7c0484fc-5ea9-40ce-8471-21c94451e378",
   "metadata": {},
   "source": [
    "# ***NP.CONCATENATE***"
   ]
  },
  {
   "cell_type": "code",
   "execution_count": 31,
   "id": "896656cb-a593-4655-884d-28f83db2a127",
   "metadata": {},
   "outputs": [
    {
     "name": "stdout",
     "output_type": "stream",
     "text": [
      "[[0 1 2]\n",
      " [3 4 5]]\n",
      "[[ 6  7  8]\n",
      " [ 9 10 11]]\n"
     ]
    },
    {
     "data": {
      "text/plain": [
       "array([[ 0,  1,  2],\n",
       "       [ 3,  4,  5],\n",
       "       [ 6,  7,  8],\n",
       "       [ 9, 10, 11]])"
      ]
     },
     "execution_count": 31,
     "metadata": {},
     "output_type": "execute_result"
    }
   ],
   "source": [
    "c = np.arange(6).reshape(2,3)\n",
    "d = np.arange(6,12).reshape(2,3)\n",
    "print(c)\n",
    "print(d)\n",
    "# print(np.concatenate(c, d)) # provid arrays to concatenate inside a tuple\n",
    "np.concatenate((c, d))"
   ]
  },
  {
   "cell_type": "code",
   "execution_count": 33,
   "id": "f6d53ac5-2205-48b5-876e-3486c840cf5b",
   "metadata": {},
   "outputs": [
    {
     "data": {
      "text/plain": [
       "array([[ 0,  1,  2],\n",
       "       [ 3,  4,  5],\n",
       "       [ 6,  7,  8],\n",
       "       [ 9, 10, 11]])"
      ]
     },
     "execution_count": 33,
     "metadata": {},
     "output_type": "execute_result"
    }
   ],
   "source": [
    "np.concatenate((c, d), axis = 0) #its by default"
   ]
  },
  {
   "cell_type": "code",
   "execution_count": 34,
   "id": "4e865517-c57c-41cc-94e2-e3c52e077daa",
   "metadata": {},
   "outputs": [
    {
     "data": {
      "text/plain": [
       "array([[ 0,  1,  2,  6,  7,  8],\n",
       "       [ 3,  4,  5,  9, 10, 11]])"
      ]
     },
     "execution_count": 34,
     "metadata": {},
     "output_type": "execute_result"
    }
   ],
   "source": [
    "np.concatenate((c, d), axis = 1)"
   ]
  },
  {
   "cell_type": "code",
   "execution_count": 35,
   "id": "9070baa0-589b-4e74-ac42-8b8def0c2053",
   "metadata": {},
   "outputs": [
    {
     "data": {
      "text/plain": [
       "array([1, 2, 3, 4, 5, 6, 7])"
      ]
     },
     "execution_count": 35,
     "metadata": {},
     "output_type": "execute_result"
    }
   ],
   "source": [
    "e = np.array([1,1,2,2,2,3,4,4,4,4,4,5,6,7])\n",
    "np.unique(e)"
   ]
  },
  {
   "cell_type": "markdown",
   "id": "372d4509-f09d-4477-845a-8742cdd58130",
   "metadata": {},
   "source": [
    "# ***np.expand_dims***\n",
    ":- is used to add a new axis to an array, effectively increasing the dimensionality of the array. The key idea is that it allows reshaping data without changing its values, just adding an extra dimension to the array's shape.\n",
    "\n",
    "### How it works:\n",
    "- **Input:** A NumPy array of any shape.\n",
    "- **Functionality:** You specify the axis (position in the shape) where you want to add a new dimension.\n",
    "- **Output:** A new array with the same data, but one additional dimension.\n",
    "\n",
    "### Example:\n",
    "For a 1D array with shape `(3,)`, applying `np.expand_dims(arr, axis=0)` changes the shape to `(1, 3)` by adding a new dimension at position 0. Similarly, you can add dimensions anywhere along the array.\n",
    "\n",
    "This function is often used in operations like broadcasting or aligning dimensions for matrix operations."
   ]
  },
  {
   "cell_type": "code",
   "execution_count": 43,
   "id": "b5e3fefe-67da-459b-92a2-b4c0b03484d7",
   "metadata": {},
   "outputs": [
    {
     "name": "stdout",
     "output_type": "stream",
     "text": [
      "[[1 2 3]]\n"
     ]
    }
   ],
   "source": [
    "arr_1d = np.array([1, 2, 3])\n",
    "arr_2d = np.expand_dims(arr_1d, axis=0)  # Adds a new axis at position 0 (rows)\n",
    "print(arr_2d)"
   ]
  },
  {
   "cell_type": "code",
   "execution_count": 44,
   "id": "5cad2e9a-9dc5-4acb-8dc3-e37c3f228b7f",
   "metadata": {},
   "outputs": [
    {
     "name": "stdout",
     "output_type": "stream",
     "text": [
      "[[1]\n",
      " [2]\n",
      " [3]]\n"
     ]
    }
   ],
   "source": [
    "arr_1d = np.array([1, 2, 3])\n",
    "arr_2d = np.expand_dims(arr_1d, axis=1)  # Adds a new axis at position 1 (cols)\n",
    "print(arr_2d)"
   ]
  },
  {
   "cell_type": "code",
   "execution_count": 45,
   "id": "7603ba2a-29a0-43e6-99d5-de93fc593542",
   "metadata": {},
   "outputs": [
    {
     "name": "stdout",
     "output_type": "stream",
     "text": [
      "[[[1 2 3]\n",
      "  [4 5 6]]]\n"
     ]
    }
   ],
   "source": [
    "arr_2d = np.array([[1, 2, 3], [4, 5, 6]])\n",
    "arr_3d = np.expand_dims(arr_2d, axis=0)  # Adds a new axis at position 0\n",
    "print(arr_3d)"
   ]
  },
  {
   "cell_type": "code",
   "execution_count": 46,
   "id": "5409de65-f682-4236-a2ed-f83b1bc0e2da",
   "metadata": {},
   "outputs": [
    {
     "name": "stdout",
     "output_type": "stream",
     "text": [
      "[[[1 2 3]]\n",
      "\n",
      " [[4 5 6]]]\n"
     ]
    }
   ],
   "source": [
    "arr_2d = np.array([[1, 2, 3], [4, 5, 6]])\n",
    "arr_3d = np.expand_dims(arr_2d, axis=1)  # Adds a new axis at position 1\n",
    "print(arr_3d)"
   ]
  },
  {
   "cell_type": "code",
   "execution_count": 47,
   "id": "2d58e1fb-08f2-42a5-9e51-fc7b76d1bf34",
   "metadata": {},
   "outputs": [
    {
     "name": "stdout",
     "output_type": "stream",
     "text": [
      "[[[[1 2 3]\n",
      "   [4 5 6]]]]\n"
     ]
    }
   ],
   "source": [
    "arr_3d = np.array([[[1, 2, 3], [4, 5, 6]]])\n",
    "arr_4d = np.expand_dims(arr_3d, axis=0)  # Adds a new axis at position 0\n",
    "print(arr_4d)"
   ]
  },
  {
   "cell_type": "code",
   "execution_count": 48,
   "id": "4339f604-8e09-4c3f-8a0f-d5cd05dd63e8",
   "metadata": {},
   "outputs": [
    {
     "name": "stdout",
     "output_type": "stream",
     "text": [
      "[[[[1 2 3]\n",
      "   [4 5 6]]]]\n"
     ]
    }
   ],
   "source": [
    "arr_3d = np.array([[[1, 2, 3], [4, 5, 6]]])\n",
    "arr_4d = np.expand_dims(arr_3d, axis=1)  # Adds a new axis at position 1\n",
    "print(arr_4d)"
   ]
  },
  {
   "cell_type": "markdown",
   "id": "e4eb7020-144e-4a46-bcd9-2435ebcf8edb",
   "metadata": {},
   "source": [
    "# ***np.where*** \n",
    ":- is a versatile function in NumPy that allows conditional selection of elements from arrays. It's primarily used for three key tasks: selecting elements based on conditions, finding the indices of elements that satisfy a condition, and performing element-wise operations.\n",
    "\n",
    "### Syntax:\n",
    "```python\n",
    "np.where(condition, [x, y])\n",
    "```\n",
    "\n",
    "### How it works:\n",
    "1. **Condition-based Selection:**\n",
    "   - **Input:** A condition (typically a boolean array or expression) and two optional arrays `x` and `y`.\n",
    "   - **Output:** If the condition is `True`, it selects from `x`; if `False`, it selects from `y`.\n",
    "\n",
    "   Example:\n",
    "   ```python\n",
    "   arr = np.array([1, 2, 3, 4, 5])\n",
    "   result = np.where(arr > 3, arr, 0)\n",
    "   # Output: array([0, 0, 0, 4, 5])\n",
    "   ```\n",
    "   This replaces values where the condition `arr > 3` is not satisfied with `0`.\n",
    "\n",
    "2. **Finding Indices:**\n",
    "   - **Input:** Only the condition.\n",
    "   - **Output:** Returns the indices where the condition is `True`.\n",
    "\n",
    "   Example:\n",
    "   ```python\n",
    "   indices = np.where(arr > 3)\n",
    "   # Output: (array([3, 4]),)\n",
    "   ```\n",
    "\n",
    "### Use Cases:\n",
    "- **Conditional selection of values** (like an element-wise \"if-else\").\n",
    "- **Indexing for data extraction** based on a condition.\n",
    "- **Masking or replacing values in arrays** based on specific conditions.\n",
    "\n"
   ]
  },
  {
   "cell_type": "code",
   "execution_count": 56,
   "id": "89d11b03-da49-4e77-8a3b-f8194f01e513",
   "metadata": {},
   "outputs": [
    {
     "name": "stdout",
     "output_type": "stream",
     "text": [
      "[6 6 2 1 9 1 6]\n",
      "(array([0, 1, 4, 6], dtype=int64),)\n"
     ]
    }
   ],
   "source": [
    "arr = np.random.randint(1, 10, 7)\n",
    "print(arr)\n",
    "indices = np.where(arr > 3)\n",
    "print(indices) "
   ]
  },
  {
   "cell_type": "markdown",
   "id": "4509eadb-2fab-48ca-9bd9-54e021cfd9ac",
   "metadata": {},
   "source": [
    "# ***based on condition we can replce values within given array***"
   ]
  },
  {
   "cell_type": "code",
   "execution_count": 57,
   "id": "e726cd38-76a7-4d23-99b5-b29ecaebd493",
   "metadata": {},
   "outputs": [
    {
     "data": {
      "text/plain": [
       "array([ 6,  6, -1, -1,  9, -1,  6])"
      ]
     },
     "execution_count": 57,
     "metadata": {},
     "output_type": "execute_result"
    }
   ],
   "source": [
    "np.where(arr > 3, arr, -1) # based on condition we can replce values within given array"
   ]
  },
  {
   "cell_type": "code",
   "execution_count": 60,
   "id": "1cec63e2-a818-474c-92aa-ed899ae78b0c",
   "metadata": {},
   "outputs": [
    {
     "name": "stdout",
     "output_type": "stream",
     "text": [
      "['odd' 'odd' 'even' 'even' 'even' 'odd' 'odd' 'even' 'odd' 'even' 'even'\n",
      " 'odd' 'even' 'even' 'odd']\n"
     ]
    }
   ],
   "source": [
    "a = np.array([11, 53, 28, 50, 38, 37, 61, 72, 5, 30, 64, 9, 82, 2, 211])\n",
    "result2 = np.where(a % 2 == 0, 'even', 'odd')\n",
    "print(result2)"
   ]
  },
  {
   "cell_type": "markdown",
   "id": "6e56b5c7-7cea-428a-9cbd-08eb5c582469",
   "metadata": {},
   "source": [
    "# np.argmax"
   ]
  },
  {
   "cell_type": "code",
   "execution_count": 62,
   "id": "94d58337-c126-443d-a727-dd5cf2d3045b",
   "metadata": {},
   "outputs": [
    {
     "name": "stdout",
     "output_type": "stream",
     "text": [
      "3\n"
     ]
    }
   ],
   "source": [
    "arr_1d = np.array([10, 20, 15, 30, 25])\n",
    "max_index_1d = np.argmax(arr_1d)\n",
    "print(max_index_1d)  # Output: 3 (index of 30)"
   ]
  },
  {
   "cell_type": "code",
   "execution_count": 64,
   "id": "7b59938e-f957-435f-bc0e-2aa6e52230b6",
   "metadata": {},
   "outputs": [
    {
     "name": "stdout",
     "output_type": "stream",
     "text": [
      "[2 2 1]\n"
     ]
    }
   ],
   "source": [
    "arr_2d = np.array([[10, 50, 30], [60, 20, 90], [70, 80, 40]])\n",
    "max_index_2d = np.argmax(arr_2d, axis = 0)\n",
    "print(max_index_2d)  "
   ]
  },
  {
   "cell_type": "code",
   "execution_count": 65,
   "id": "03720f9d-3225-4dd7-ad77-a089fcf9f422",
   "metadata": {},
   "outputs": [
    {
     "name": "stdout",
     "output_type": "stream",
     "text": [
      "[1 2 1]\n"
     ]
    }
   ],
   "source": [
    "arr_2d = np.array([[10, 50, 30], [60, 20, 90], [70, 80, 40]])\n",
    "max_index_2d = np.argmax(arr_2d, axis = 1)\n",
    "print(max_index_2d)  "
   ]
  },
  {
   "cell_type": "code",
   "execution_count": 71,
   "id": "46f8f766-eb98-4b1e-bf16-d35b887d4f46",
   "metadata": {},
   "outputs": [
    {
     "name": "stdout",
     "output_type": "stream",
     "text": [
      "[54 20 89 25 79 97 34 70 71 42 51 84 49 71  1]\n",
      "54.0\n",
      "97.0\n",
      "1.0\n"
     ]
    }
   ],
   "source": [
    "a = np.random.randint(1,100,15)\n",
    "print(a)\n",
    "print(np.percentile(a,50)) # median\n",
    "print(np.percentile(a,100)) # max\n",
    "print(np.percentile(a,0)) # min"
   ]
  },
  {
   "cell_type": "code",
   "execution_count": 69,
   "id": "586d09f6-3635-42bd-90c5-6dfe1d8d0a09",
   "metadata": {},
   "outputs": [
    {
     "data": {
      "text/plain": [
       "57.0"
      ]
     },
     "execution_count": 69,
     "metadata": {},
     "output_type": "execute_result"
    }
   ],
   "source": [
    "np.median(a)"
   ]
  },
  {
   "cell_type": "code",
   "execution_count": 74,
   "id": "ec46428e-21ea-4c82-81ae-5f033833f3ce",
   "metadata": {},
   "outputs": [
    {
     "data": {
      "text/plain": [
       "(array([1, 0, 2, 1, 2, 2, 0, 4, 2, 1], dtype=int64),\n",
       " array([  0,  10,  20,  30,  40,  50,  60,  70,  80,  90, 100]))"
      ]
     },
     "execution_count": 74,
     "metadata": {},
     "output_type": "execute_result"
    }
   ],
   "source": [
    "np.histogram(a,bins=[0, 10, 20, 30, 40, 50, 60, 70, 80, 90, 100]) \n",
    "# it prints how many numbers are there between 0-10, 10-20, 20-30 .... 90-100"
   ]
  },
  {
   "cell_type": "markdown",
   "id": "fe2d3b75-3d6f-4352-b708-e77813966b7d",
   "metadata": {},
   "source": [
    "### `numpy.isin()` Method\n",
    "\n",
    "- **Purpose:** Checks if elements of one array are present in another array or list.\n",
    "- **Syntax:** \n",
    "  ```python\n",
    "  numpy.isin(target_array, list)\n",
    "  ```\n",
    "- **Returns:** A boolean array with the same size as `target_array`, where each element indicates whether it is present in `list`."
   ]
  },
  {
   "cell_type": "code",
   "execution_count": 76,
   "id": "3196458a-8e18-4779-acad-f175efeeeff9",
   "metadata": {},
   "outputs": [
    {
     "name": "stdout",
     "output_type": "stream",
     "text": [
      "[10, 20, 30, 40, 50, 60, 70, 80, 90]\n",
      "[54 20 89 25 79 97 34 70 71 42 51 84 49 71  1]\n"
     ]
    },
    {
     "data": {
      "text/plain": [
       "array([False,  True, False, False, False, False, False,  True, False,\n",
       "       False, False, False, False, False, False])"
      ]
     },
     "execution_count": 76,
     "metadata": {},
     "output_type": "execute_result"
    }
   ],
   "source": [
    "items = [10,20,30,40,50,60,70,80,90]\n",
    "print(items)\n",
    "print(a)\n",
    "np.isin(a, items)"
   ]
  },
  {
   "cell_type": "code",
   "execution_count": 77,
   "id": "a3627292-a6ce-4bdb-a9cd-d3f17178c82e",
   "metadata": {},
   "outputs": [
    {
     "data": {
      "text/plain": [
       "array([54, 20, 89, 25, 79, 97, 34, 70, 71, 42, 51, 84, 49, 71,  1])"
      ]
     },
     "execution_count": 77,
     "metadata": {},
     "output_type": "execute_result"
    }
   ],
   "source": [
    "a"
   ]
  },
  {
   "cell_type": "code",
   "execution_count": 78,
   "id": "d48dba3b-8d92-4b0e-91ea-38f18971e733",
   "metadata": {},
   "outputs": [
    {
     "data": {
      "text/plain": [
       "array([ 1, 71, 49, 84, 51, 42, 71, 70, 34, 97, 79, 25, 89, 20, 54])"
      ]
     },
     "execution_count": 78,
     "metadata": {},
     "output_type": "execute_result"
    }
   ],
   "source": [
    "np.flip(a)"
   ]
  },
  {
   "cell_type": "code",
   "execution_count": 79,
   "id": "a1a17985-e035-491e-9a18-7a1b057f485f",
   "metadata": {},
   "outputs": [
    {
     "data": {
      "text/plain": [
       "array([[98, 94, 49, 32],\n",
       "       [12, 66, 92, 61],\n",
       "       [69, 90, 60, 37],\n",
       "       [19, 66, 69, 46],\n",
       "       [82, 29,  7, 19],\n",
       "       [85, 31, 56, 68]])"
      ]
     },
     "execution_count": 79,
     "metadata": {},
     "output_type": "execute_result"
    }
   ],
   "source": [
    "b"
   ]
  },
  {
   "cell_type": "code",
   "execution_count": 81,
   "id": "439157ab-5cff-48eb-a2a9-65bbb69da407",
   "metadata": {},
   "outputs": [
    {
     "data": {
      "text/plain": [
       "array([[68, 56, 31, 85],\n",
       "       [19,  7, 29, 82],\n",
       "       [46, 69, 66, 19],\n",
       "       [37, 60, 90, 69],\n",
       "       [61, 92, 66, 12],\n",
       "       [32, 49, 94, 98]])"
      ]
     },
     "execution_count": 81,
     "metadata": {},
     "output_type": "execute_result"
    }
   ],
   "source": [
    "np.flip(b) # flip on both row and column"
   ]
  },
  {
   "cell_type": "code",
   "execution_count": 82,
   "id": "575fd744-ef9b-4733-b92a-ab09be5997ba",
   "metadata": {},
   "outputs": [
    {
     "data": {
      "text/plain": [
       "array([[98, 94, 49, 32],\n",
       "       [12, 66, 92, 61],\n",
       "       [69, 90, 60, 37],\n",
       "       [19, 66, 69, 46],\n",
       "       [82, 29,  7, 19],\n",
       "       [85, 31, 56, 68]])"
      ]
     },
     "execution_count": 82,
     "metadata": {},
     "output_type": "execute_result"
    }
   ],
   "source": [
    "b"
   ]
  },
  {
   "cell_type": "code",
   "execution_count": 83,
   "id": "eb72641c-19a1-4d08-a51d-1e3c5f30e85d",
   "metadata": {},
   "outputs": [
    {
     "data": {
      "text/plain": [
       "array([[85, 31, 56, 68],\n",
       "       [82, 29,  7, 19],\n",
       "       [19, 66, 69, 46],\n",
       "       [69, 90, 60, 37],\n",
       "       [12, 66, 92, 61],\n",
       "       [98, 94, 49, 32]])"
      ]
     },
     "execution_count": 83,
     "metadata": {},
     "output_type": "execute_result"
    }
   ],
   "source": [
    "np.flip(b, axis = 0)"
   ]
  },
  {
   "cell_type": "code",
   "execution_count": 84,
   "id": "f03c2fa5-7f6a-4989-9413-818527d2f7bf",
   "metadata": {},
   "outputs": [
    {
     "data": {
      "text/plain": [
       "array([[32, 49, 94, 98],\n",
       "       [61, 92, 66, 12],\n",
       "       [37, 60, 90, 69],\n",
       "       [46, 69, 66, 19],\n",
       "       [19,  7, 29, 82],\n",
       "       [68, 56, 31, 85]])"
      ]
     },
     "execution_count": 84,
     "metadata": {},
     "output_type": "execute_result"
    }
   ],
   "source": [
    "np.flip(b, axis = 1)"
   ]
  },
  {
   "cell_type": "code",
   "execution_count": 85,
   "id": "578c2fc2-ca47-4d73-ad07-4747a2b3dc39",
   "metadata": {},
   "outputs": [
    {
     "data": {
      "text/plain": [
       "array([54, 20, 89, 25, 79, 97, 34, 70, 71, 42, 51, 84, 49, 71,  1])"
      ]
     },
     "execution_count": 85,
     "metadata": {},
     "output_type": "execute_result"
    }
   ],
   "source": [
    "a"
   ]
  },
  {
   "cell_type": "code",
   "execution_count": 86,
   "id": "5643e509-142b-48b1-9fe1-59e234b8aa13",
   "metadata": {},
   "outputs": [
    {
     "data": {
      "text/plain": [
       "array([20, 89, 25, 79, 97, 34, 70, 71, 42, 51, 84, 49, 71,  1])"
      ]
     },
     "execution_count": 86,
     "metadata": {},
     "output_type": "execute_result"
    }
   ],
   "source": [
    "np.delete(a, 0)"
   ]
  },
  {
   "cell_type": "code",
   "execution_count": 88,
   "id": "546db26d-2f23-42d2-b41b-a69c6e3e33d3",
   "metadata": {},
   "outputs": [
    {
     "data": {
      "text/plain": [
       "array([54, 20, 89, 25, 79, 34, 70, 71, 42, 51, 84, 49, 71,  1])"
      ]
     },
     "execution_count": 88,
     "metadata": {},
     "output_type": "execute_result"
    }
   ],
   "source": [
    "np.delete(a, 5) # 97 from original a will be deleted"
   ]
  },
  {
   "cell_type": "markdown",
   "id": "7b8cf038-b289-4d79-8f90-7e9a76e22d5f",
   "metadata": {},
   "source": [
    "# set operations which returns numpy array"
   ]
  },
  {
   "cell_type": "code",
   "execution_count": 90,
   "id": "b18d9527-7444-4344-90a5-3ed3794940ed",
   "metadata": {},
   "outputs": [
    {
     "name": "stdout",
     "output_type": "stream",
     "text": [
      "Union: [1 2 3 4 5 6 7]\n",
      "Intersection: [3 4 5]\n",
      "Set Difference (m - n): [1 2]\n",
      "Set XOR: [1 2 6 7]\n",
      "Elements of m in n: [False False  True  True  True]\n"
     ]
    }
   ],
   "source": [
    "m = np.array([1, 2, 3, 4, 5])\n",
    "n = np.array([3, 4, 5, 6, 7])\n",
    "\n",
    "# np.union1d - Union of two arrays\n",
    "union = np.union1d(m, n)\n",
    "print(\"Union:\", union)\n",
    "\n",
    "# np.intersect1d - Intersection of two arrays\n",
    "intersection = np.intersect1d(m, n)\n",
    "print(\"Intersection:\", intersection)\n",
    "\n",
    "# np.setdiff1d - Set difference (elements in m but not in n)\n",
    "set_difference = np.setdiff1d(m, n)\n",
    "print(\"Set Difference (m - n):\", set_difference)\n",
    "\n",
    "# np.setxor1d - Set symmetric difference (elements in either m or n but not in both)\n",
    "set_xor = np.setxor1d(m, n)\n",
    "print(\"Set XOR:\", set_xor)\n",
    "\n",
    "# np.in1d - Check if elements of m are in n (returns boolean array)\n",
    "in1d_result = np.in1d(m, n)\n",
    "print(\"Elements of m in n:\", in1d_result)"
   ]
  },
  {
   "cell_type": "markdown",
   "id": "b5c1be17-ab51-4e93-85b6-6c3b09d9b85a",
   "metadata": {},
   "source": [
    "# np.clip which sets higher and lower limit in an numpoy array"
   ]
  },
  {
   "cell_type": "code",
   "execution_count": 91,
   "id": "f1ab4770-dd10-4594-881e-d7d5db96bc14",
   "metadata": {},
   "outputs": [
    {
     "data": {
      "text/plain": [
       "array([54, 20, 89, 25, 79, 97, 34, 70, 71, 42, 51, 84, 49, 71,  1])"
      ]
     },
     "execution_count": 91,
     "metadata": {},
     "output_type": "execute_result"
    }
   ],
   "source": [
    "a"
   ]
  },
  {
   "cell_type": "code",
   "execution_count": 92,
   "id": "93fb9da0-0501-4953-8e44-35b23f931ab0",
   "metadata": {},
   "outputs": [
    {
     "data": {
      "text/plain": [
       "array([54, 25, 75, 25, 75, 75, 34, 70, 71, 42, 51, 75, 49, 71, 25])"
      ]
     },
     "execution_count": 92,
     "metadata": {},
     "output_type": "execute_result"
    }
   ],
   "source": [
    "np.clip(a, 25, 75)"
   ]
  },
  {
   "cell_type": "code",
   "execution_count": null,
   "id": "90345d7a-7bde-4799-82af-98e3c3ffd395",
   "metadata": {},
   "outputs": [],
   "source": []
  }
 ],
 "metadata": {
  "kernelspec": {
   "display_name": "Python 3 (ipykernel)",
   "language": "python",
   "name": "python3"
  },
  "language_info": {
   "codemirror_mode": {
    "name": "ipython",
    "version": 3
   },
   "file_extension": ".py",
   "mimetype": "text/x-python",
   "name": "python",
   "nbconvert_exporter": "python",
   "pygments_lexer": "ipython3",
   "version": "3.11.7"
  }
 },
 "nbformat": 4,
 "nbformat_minor": 5
}
