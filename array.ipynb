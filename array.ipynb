{
 "cells": [
  {
   "cell_type": "code",
   "execution_count": 4,
   "id": "50ee114a",
   "metadata": {
    "scrolled": true
   },
   "outputs": [
    {
     "name": "stdout",
     "output_type": "stream",
     "text": [
      "[1 2 3 4 5]\n",
      "<class 'numpy.ndarray'>\n",
      "1\n"
     ]
    }
   ],
   "source": [
    "import numpy as np\n",
    "y=np.array([1,2,3,4,5])\n",
    "print(y)\n",
    "print(type(y))\n",
    "print(y.ndim)"
   ]
  },
  {
   "cell_type": "code",
   "execution_count": 5,
   "id": "abf8cf59",
   "metadata": {},
   "outputs": [
    {
     "name": "stdout",
     "output_type": "stream",
     "text": [
      "2\n"
     ]
    }
   ],
   "source": [
    "import numpy as np\n",
    "x=np.array([[1,2,3],[4,5,6],[7,8,9]])\n",
    "print(x.ndim)"
   ]
  },
  {
   "cell_type": "code",
   "execution_count": 8,
   "id": "d1c357c3",
   "metadata": {
    "scrolled": false
   },
   "outputs": [
    {
     "name": "stdout",
     "output_type": "stream",
     "text": [
      "likho number: 1\n",
      "likho number: 2\n",
      "likho number: 3\n",
      "likho number: 4\n",
      "[1 2 3 4]\n"
     ]
    }
   ],
   "source": [
    "l=[]\n",
    "\n",
    "for i in range(1,5):\n",
    "    num=int(input(\"likho number: \"))\n",
    "    l.append(num)\n",
    "\n",
    "print(np.array(l))    "
   ]
  },
  {
   "cell_type": "code",
   "execution_count": 1,
   "id": "0f34b48e",
   "metadata": {
    "scrolled": true
   },
   "outputs": [
    {
     "name": "stdout",
     "output_type": "stream",
     "text": [
      "[[[[1 2 3 4]]]]\n"
     ]
    }
   ],
   "source": [
    "import numpy as np\n",
    "x=np.array([1,2,3,4], ndmin=4)\n",
    "print(x)"
   ]
  },
  {
   "cell_type": "code",
   "execution_count": 5,
   "id": "12cb55a4",
   "metadata": {},
   "outputs": [
    {
     "name": "stdout",
     "output_type": "stream",
     "text": [
      "[0. 0. 0. 0.]\n",
      "[[1. 1. 1.]\n",
      " [1. 1. 1.]]\n"
     ]
    }
   ],
   "source": [
    "x=np.zeros(4)\n",
    "print(x)\n",
    "y=np.ones((2,3))\n",
    "print(y)\n"
   ]
  },
  {
   "cell_type": "code",
   "execution_count": 7,
   "id": "916a756b",
   "metadata": {},
   "outputs": [
    {
     "name": "stdout",
     "output_type": "stream",
     "text": [
      "[0 1 2 3 4 5 6 7 8 9]\n"
     ]
    }
   ],
   "source": [
    "x=np.arange(10)\n",
    "print(x)"
   ]
  },
  {
   "cell_type": "code",
   "execution_count": 9,
   "id": "47c40ae5",
   "metadata": {},
   "outputs": [
    {
     "name": "stdout",
     "output_type": "stream",
     "text": [
      "[[1. 0. 0.]\n",
      " [0. 1. 0.]\n",
      " [0. 0. 1.]]\n",
      "\n",
      "[[1. 0. 0. 0. 0.]\n",
      " [0. 1. 0. 0. 0.]\n",
      " [0. 0. 1. 0. 0.]]\n"
     ]
    }
   ],
   "source": [
    "x=np.eye(3)\n",
    "print(x)\n",
    "print()\n",
    "y=np.eye(3,5)\n",
    "print(y)"
   ]
  },
  {
   "cell_type": "code",
   "execution_count": 15,
   "id": "76304e15",
   "metadata": {},
   "outputs": [
    {
     "name": "stdout",
     "output_type": "stream",
     "text": [
      "[ 1.   1.5  2.   2.5  3.   3.5  4.   4.5  5.   5.5  6.   6.5  7.   7.5\n",
      "  8.   8.5  9.   9.5 10. ]\n"
     ]
    }
   ],
   "source": [
    "arr= np.linspace(1,10, num=19)\n",
    "print(arr)"
   ]
  },
  {
   "cell_type": "code",
   "execution_count": 17,
   "id": "16c97f2b",
   "metadata": {},
   "outputs": [
    {
     "name": "stdout",
     "output_type": "stream",
     "text": [
      "[0.98392954 0.90338355 0.3895413 ]\n",
      "\n",
      "[[0.37280204 0.47762025 0.59214705 0.10574302 0.84188124]\n",
      " [0.80900266 0.71401842 0.58409097 0.77871905 0.25488286]]\n"
     ]
    }
   ],
   "source": [
    "x=np.random.rand(3)\n",
    "print(x)\n",
    "print()\n",
    "y=np.random.rand(2,5)\n",
    "print(y)"
   ]
  },
  {
   "cell_type": "code",
   "execution_count": 19,
   "id": "aad0ada6",
   "metadata": {},
   "outputs": [
    {
     "name": "stdout",
     "output_type": "stream",
     "text": [
      "[-1.01276906e-03  1.28541176e+00 -2.22493596e-01]\n"
     ]
    }
   ],
   "source": [
    "x=np.random.randn(3)\n",
    "print(x)"
   ]
  },
  {
   "cell_type": "code",
   "execution_count": 20,
   "id": "a1672e2b",
   "metadata": {},
   "outputs": [
    {
     "name": "stdout",
     "output_type": "stream",
     "text": [
      "[2 6 3 2 6 6 7 2 2 4 1 5 1 1 5 8 1 7 3 9 8 1 8 8 3 9 5 8 7 8 1 8 3 4 6 7 7\n",
      " 9 3 4 9 7 9 1 3 3 5 9 6 7]\n"
     ]
    }
   ],
   "source": [
    "x=np.random.randint(1,10,50)\n",
    "print(x)"
   ]
  },
  {
   "cell_type": "code",
   "execution_count": 26,
   "id": "e535db6b",
   "metadata": {},
   "outputs": [
    {
     "name": "stdout",
     "output_type": "stream",
     "text": [
      "[11 12 13 14]\n",
      "[1 2 3 4]\n",
      "[3.66666667 4.         4.33333333 4.66666667]\n",
      "[2 0 1 2]\n"
     ]
    }
   ],
   "source": [
    "arr=np.array([1,2,3,4])+10\n",
    "print(arr)\n",
    "print(arr-10)\n",
    "print(arr/3)\n",
    "print(arr%3)\n"
   ]
  },
  {
   "cell_type": "code",
   "execution_count": 28,
   "id": "8772e911",
   "metadata": {},
   "outputs": [
    {
     "name": "stdout",
     "output_type": "stream",
     "text": [
      "[5 7 9]\n",
      "[5 7 9]\n",
      "[ 4 10 18]\n"
     ]
    }
   ],
   "source": [
    "arr1=np.array([1,2,3])\n",
    "arr2=np.array([4,5,6])\n",
    "print(arr1+arr2)\n",
    "arr3=np.add(arr1,arr2)\n",
    "arr4=np.multiply(arr1,arr2)\n",
    "print(arr3)\n",
    "print(arr4)"
   ]
  },
  {
   "cell_type": "code",
   "execution_count": 30,
   "id": "86c4ea00",
   "metadata": {},
   "outputs": [
    {
     "name": "stdout",
     "output_type": "stream",
     "text": [
      "min:  1 2\n",
      "max:  5 4\n",
      "sqrt:  [1.73205081 1.41421356 1.         2.         2.23606798 1.73205081\n",
      " 1.41421356]\n",
      "sin:  [ 0.14112001  0.90929743  0.84147098 -0.7568025  -0.95892427  0.14112001\n",
      "  0.90929743]\n",
      "cumsum:  [ 3  5  6 10 15 18 20]\n"
     ]
    }
   ],
   "source": [
    "import numpy as np\n",
    "var = np.array([3,2,1,4,5,3,2])\n",
    "print(\"min: \", np.min(var), np.argmin (var)) #argmin se min ki position pta chalti hai\n",
    "print(\"max: \", np.max (var), np.argmax(var))\n",
    "print(\"sqrt: \",np.sqrt(var))\n",
    "print(\"sin: \", np.sin(var))\n",
    "print(\"cumsum: \", np.cumsum(var)) #cumsum of ith element is sum till ith index"
   ]
  },
  {
   "cell_type": "code",
   "execution_count": 31,
   "id": "fd6977a1",
   "metadata": {},
   "outputs": [
    {
     "name": "stdout",
     "output_type": "stream",
     "text": [
      "[[1 2 3 4]\n",
      " [1 2 3 4]]\n",
      "\n",
      "(2, 4)\n"
     ]
    }
   ],
   "source": [
    "import numpy as np\n",
    "var = np.array([[1,2,3,4],[1,2,3,4]])\n",
    "print (var)\n",
    "print ()\n",
    "print(var.shape)"
   ]
  },
  {
   "cell_type": "code",
   "execution_count": 34,
   "id": "f3044d38",
   "metadata": {},
   "outputs": [
    {
     "name": "stdout",
     "output_type": "stream",
     "text": [
      "[[[[1 2 3 4]]]]\n",
      "4\n",
      "\n",
      "(1, 1, 1, 4)\n"
     ]
    }
   ],
   "source": [
    "vari= np.array([1,2,3,4], ndmin=4)\n",
    "print(vari)\n",
    "print(vari.ndim)\n",
    "print()\n",
    "print (vari.shape) # no of rows from outer to inner"
   ]
  },
  {
   "cell_type": "code",
   "execution_count": 36,
   "id": "4f6de77d",
   "metadata": {},
   "outputs": [
    {
     "name": "stdout",
     "output_type": "stream",
     "text": [
      "[1 2 3 4 5 6 1 2 3]\n",
      "1\n",
      "\n",
      "[[1 2 3]\n",
      " [4 5 6]\n",
      " [1 2 3]]\n",
      "2\n"
     ]
    }
   ],
   "source": [
    "var2 = np.array([1,2,3,4,5,6,1,2,3])\n",
    "print(var2)\n",
    "print(var2.ndim)\n",
    "print()\n",
    "x = var2.reshape (3,3)\n",
    "print(x)\n",
    "print(x.ndim)"
   ]
  },
  {
   "cell_type": "code",
   "execution_count": 40,
   "id": "9c8a569f",
   "metadata": {},
   "outputs": [
    {
     "name": "stdout",
     "output_type": "stream",
     "text": [
      "[ 1  2  3  4  5  6  7  8  9 10 11 12]\n",
      "1\n",
      "\n",
      "[[[ 1  2]\n",
      "  [ 3  4]\n",
      "  [ 5  6]]\n",
      "\n",
      " [[ 7  8]\n",
      "  [ 9 10]\n",
      "  [11 12]]]\n",
      "3\n",
      "[ 1  2  3  4  5  6  7  8  9 10 11 12]\n",
      "1\n"
     ]
    }
   ],
   "source": [
    "var3 = np.array([1,2,3,4,5,6,7,8,9,10,11,12])\n",
    "print (var3)\n",
    "print(var3.ndim)\n",
    "print()\n",
    "x1 = var3.reshape (2,3,2)\n",
    "print(x1)\n",
    "print(x1.ndim)\n",
    "x2=x1.reshape(-1) #reshape into 1d array\n",
    "print(x2)\n",
    "print(x2.ndim)"
   ]
  },
  {
   "cell_type": "code",
   "execution_count": 41,
   "id": "6747c42b",
   "metadata": {},
   "outputs": [
    {
     "name": "stdout",
     "output_type": "stream",
     "text": [
      "8\n",
      "8\n"
     ]
    }
   ],
   "source": [
    "import numpy as np\n",
    "var = np.array([9,8,7,6])\n",
    "#               0,1,2,3\n",
    "#             -4,-3,-2,-1\n",
    "print(var[1])\n",
    "print(var[-3])"
   ]
  },
  {
   "cell_type": "code",
   "execution_count": 42,
   "id": "ecc73343",
   "metadata": {},
   "outputs": [
    {
     "name": "stdout",
     "output_type": "stream",
     "text": [
      "[[9 8 7]\n",
      " [4 5 6]]\n",
      "4\n",
      "\n",
      "8\n"
     ]
    }
   ],
   "source": [
    "var1= np.array([[9,8,7], [4,5,6]])\n",
    "print(var1)\n",
    "print(vari.ndim)\n",
    "print()\n",
    "print(var1[0,1])"
   ]
  },
  {
   "cell_type": "code",
   "execution_count": 44,
   "id": "54734dd7",
   "metadata": {},
   "outputs": [
    {
     "name": "stdout",
     "output_type": "stream",
     "text": [
      "[9 8 7 6 5 4 3]\n",
      "\n",
      "2 to 5:  [8 7 6 5]\n",
      " 2 to End :  [8 7 6 5 4 3]\n",
      "start to 5:  [9 8 7 6 5]\n",
      "stop:  [9 7 5 3]\n"
     ]
    }
   ],
   "source": [
    "import numpy as np\n",
    "var = np.array([9,8,7,6,5,4,3])\n",
    "0,1,2,3,4,5,6\n",
    "print(var)\n",
    "print()\n",
    "print(\"2 to 5: \",var[1:5])\n",
    "print(\" 2 to End : \", var[1:])\n",
    "print(\"start to 5: \",var[:5])\n",
    "print(\"stop: \", var[::2])# 2 cha gap sodun print"
   ]
  },
  {
   "cell_type": "code",
   "execution_count": 46,
   "id": "5a0475b4",
   "metadata": {},
   "outputs": [
    {
     "name": "stdout",
     "output_type": "stream",
     "text": [
      "[[1 2 3 4]\n",
      " [1 2 3 4]]\n",
      "\n",
      "[1 2 3 4]\n",
      "[1 2 3 4]\n",
      "\n",
      "1\n",
      "2\n",
      "3\n",
      "4\n",
      "1\n",
      "2\n",
      "3\n",
      "4\n"
     ]
    }
   ],
   "source": [
    "vari = np.array([[1,2,3,4],[1,2,3,4]])\n",
    "print(vari)\n",
    "print ()\n",
    "\n",
    "for j in vari:\n",
    "    print(j)   # row wise print\n",
    "\n",
    "print()\n",
    "\n",
    "for k in vari:\n",
    "    for l in k:\n",
    "        print(l)  #print as single entity"
   ]
  },
  {
   "cell_type": "code",
   "execution_count": 49,
   "id": "28d7d753",
   "metadata": {},
   "outputs": [
    {
     "name": "stdout",
     "output_type": "stream",
     "text": [
      "[[19  8  7  6]\n",
      " [ 1  2  3  4]]\n",
      "2\n",
      "\n",
      "19\n",
      "8\n",
      "7\n",
      "6\n",
      "1\n",
      "2\n",
      "3\n",
      "4\n"
     ]
    }
   ],
   "source": [
    "var3 = np.array([[19,8,7,6],[1,2,3,4]])\n",
    "print(var3)\n",
    "print(var3.ndim)\n",
    "print()\n",
    "for i in np.nditer (var3):\n",
    "     print(i)"
   ]
  },
  {
   "cell_type": "code",
   "execution_count": 50,
   "id": "82362e11",
   "metadata": {},
   "outputs": [
    {
     "name": "stdout",
     "output_type": "stream",
     "text": [
      "[[[9 8 7 6]\n",
      "  [1 2 3 4]]]\n",
      "3\n",
      "\n",
      "(0, 0, 0) 9\n",
      "(0, 0, 1) 8\n",
      "(0, 0, 2) 7\n",
      "(0, 0, 3) 6\n",
      "(0, 1, 0) 1\n",
      "(0, 1, 1) 2\n",
      "(0, 1, 2) 3\n",
      "(0, 1, 3) 4\n"
     ]
    }
   ],
   "source": [
    "var3 = np.array([[[9,8,7,6],[1,2,3,4]]])\n",
    "print(var3)\n",
    "print(var3.ndim)\n",
    "print()\n",
    "for i,d in np.ndenumerate(var3):\n",
    "     print (i, d)"
   ]
  },
  {
   "cell_type": "code",
   "execution_count": 53,
   "id": "52fffc91",
   "metadata": {},
   "outputs": [
    {
     "name": "stdout",
     "output_type": "stream",
     "text": [
      "var:  [ 1 40  3  4]\n",
      "copy :  [1 2 3 4]\n",
      "\n",
      "view [ 1 40  3  4]\n"
     ]
    }
   ],
   "source": [
    "import numpy as np\n",
    "var = np.array([1,2,3,4])\n",
    "co =var.copy()\n",
    "var[1]=40\n",
    "print(\"var: \",var) \n",
    "print(\"copy : \",co) #change reflect nahi honar\n",
    "vi = var.view()\n",
    "print(\"view\",vi) #change reflect honar"
   ]
  },
  {
   "cell_type": "code",
   "execution_count": 56,
   "id": "4fa7cf64",
   "metadata": {},
   "outputs": [
    {
     "name": "stdout",
     "output_type": "stream",
     "text": [
      "[[1 2]\n",
      " [3 4]]\n",
      "\n",
      "[[9 8]\n",
      " [7 6]]\n",
      "\n",
      "[[1 2 9 8]\n",
      " [3 4 7 6]]\n",
      "\n",
      "[[1 2]\n",
      " [3 4]\n",
      " [9 8]\n",
      " [7 6]]\n"
     ]
    }
   ],
   "source": [
    "vr = np.array([[1,2], [3,4]])\n",
    "vr1= np.array([[9,8],[7,6]])\n",
    "ar_new = np.concatenate ((vr, vr1),axis=1)\n",
    "print (vr)\n",
    "print()\n",
    "print (vr1)\n",
    "print()\n",
    "print(ar_new)\n",
    "print()\n",
    "arr= np.concatenate ((vr, vr1),axis=0)\n",
    "print(arr)"
   ]
  },
  {
   "cell_type": "code",
   "execution_count": 58,
   "id": "605afbf0",
   "metadata": {},
   "outputs": [
    {
     "name": "stdout",
     "output_type": "stream",
     "text": [
      "[1 2 3 4 5 6]\n",
      "\n",
      "[array([1, 2]), array([3, 4]), array([5, 6])]\n",
      "[1 2]\n"
     ]
    }
   ],
   "source": [
    "import numpy as np\n",
    "var =np.array([1,2,3,4,5,6])\n",
    "print(var)\n",
    "ar = np.array_split(var, 3)\n",
    "print()\n",
    "print(ar)\n",
    "print(ar[0])"
   ]
  },
  {
   "cell_type": "code",
   "execution_count": 59,
   "id": "dc95e7be",
   "metadata": {},
   "outputs": [
    {
     "name": "stdout",
     "output_type": "stream",
     "text": [
      "[1 2 3 4 5 6]\n",
      "\n",
      "[array([[1, 2]]), array([[3, 4]]), array([[5, 6]])]\n"
     ]
    }
   ],
   "source": [
    "var1 = np.array([[1,2], [3,4],[5,6]])\n",
    "print(var)\n",
    "ar1= np.array_split(var1,3)\n",
    "print()\n",
    "print(ar1)"
   ]
  },
  {
   "cell_type": "code",
   "execution_count": 60,
   "id": "46dd016e",
   "metadata": {},
   "outputs": [
    {
     "name": "stdout",
     "output_type": "stream",
     "text": [
      "(array([1, 4, 6], dtype=int64),)\n"
     ]
    }
   ],
   "source": [
    "import numpy as np\n",
    "var = np.array([1,2,3,4,2,5,2,5,6,7])\n",
    "x= np.where( var == 2)\n",
    "print(x)"
   ]
  },
  {
   "cell_type": "code",
   "execution_count": 63,
   "id": "6b1d9231",
   "metadata": {},
   "outputs": [
    {
     "name": "stdout",
     "output_type": "stream",
     "text": [
      "5\n",
      "[1 2 2 2 3 4 5 5 6 7]\n"
     ]
    }
   ],
   "source": [
    "import numpy as np\n",
    "var = np.array([1,2,3,4,2,5,2,5,6,7])\n",
    "x= np.searchsorted(var,5)\n",
    "print(x)\n",
    "print(np.sort(var))"
   ]
  },
  {
   "cell_type": "code",
   "execution_count": 64,
   "id": "823beb3a",
   "metadata": {},
   "outputs": [
    {
     "name": "stdout",
     "output_type": "stream",
     "text": [
      "[ 1  2  3 69  4  2  5  2  5  6  7]\n",
      "[  1   2   3   4   2   5 114   2 114   5   6   7]\n"
     ]
    }
   ],
   "source": [
    "import numpy as np\n",
    "var = np.array([1,2,3,4,2,5,2,5,6,7])\n",
    "x= np.insert(var, 3, 69)\n",
    "print(x)\n",
    "x= np.insert(var, (6,7) , 114)\n",
    "print(x)"
   ]
  },
  {
   "cell_type": "code",
   "execution_count": 69,
   "id": "60bde378",
   "metadata": {},
   "outputs": [
    {
     "name": "stdout",
     "output_type": "stream",
     "text": [
      "[[1 3 5]\n",
      " [2 4 6]]\n",
      "[[1 3 5]\n",
      " [2 4 6]]\n"
     ]
    }
   ],
   "source": [
    "import numpy as np\n",
    "\n",
    "x=np.matrix([[1,2], [3,4],[5,6]])\n",
    "print(np.transpose(x))\n",
    "print(x.T)"
   ]
  },
  {
   "cell_type": "code",
   "execution_count": 74,
   "id": "0b7febd1",
   "metadata": {},
   "outputs": [
    {
     "name": "stdout",
     "output_type": "stream",
     "text": [
      "[[-2.   1. ]\n",
      " [ 1.5 -0.5]]\n",
      "[[1 0]\n",
      " [0 1]]\n",
      "[[ 7 10]\n",
      " [15 22]]\n",
      "[[ 5.5  -2.5 ]\n",
      " [-3.75  1.75]]\n",
      "-2.0000000000000004\n"
     ]
    }
   ],
   "source": [
    "arr=np.matrix([[1,2],[3,4]])\n",
    "print(np.linalg.inv(arr))\n",
    "print(np.linalg.matrix_power(arr,0))\n",
    "print(np.linalg.matrix_power(arr,2))\n",
    "print(np.linalg.matrix_power(arr,-2))\n",
    "print(np.linalg.det(arr))"
   ]
  },
  {
   "cell_type": "code",
   "execution_count": 1,
   "id": "b8326bf7",
   "metadata": {},
   "outputs": [
    {
     "name": "stdout",
     "output_type": "stream",
     "text": [
      "Initial Array: \n",
      "[[-1.   2.   0.   4. ]\n",
      " [ 4.  -0.5  6.   0. ]\n",
      " [ 2.6  0.   7.   8. ]\n",
      " [ 3.  -7.   4.   2. ]]\n",
      "Array with first 2 rows and alternate columns(0 and 2):\n",
      " [[-1.  0.]\n",
      " [ 4.  6.]]\n",
      "\n",
      "Elements at indices (1, 3), (1, 2), (0, 1), (3, 0):\n",
      " [0. 6. 2. 3.]\n"
     ]
    }
   ],
   "source": [
    "import numpy as np\n",
    " \n",
    "# Initial Array\n",
    "arr = np.array([[-1, 2, 0, 4],\n",
    "                [4, -0.5, 6, 0],\n",
    "                [2.6, 0, 7, 8],\n",
    "                [3, -7, 4, 2.0]])\n",
    "print(\"Initial Array: \")\n",
    "print(arr)\n",
    " \n",
    "# Printing a range of Array\n",
    "# with the use of slicing method\n",
    "sliced_arr = arr[:2, ::2]\n",
    "print (\"Array with first 2 rows and\"\n",
    "    \" alternate columns(0 and 2):\\n\", sliced_arr)\n",
    " \n",
    "# Printing elements at\n",
    "# specific Indices\n",
    "Index_arr = arr[[1, 1, 0, 3], \n",
    "                [3, 2, 1, 0]]\n",
    "print (\"\\nElements at indices (1, 3), \"\n",
    "    \"(1, 2), (0, 1), (3, 0):\\n\", Index_arr)"
   ]
  },
  {
   "cell_type": "code",
   "execution_count": null,
   "id": "a58e3279",
   "metadata": {},
   "outputs": [],
   "source": []
  }
 ],
 "metadata": {
  "kernelspec": {
   "display_name": "Python 3 (ipykernel)",
   "language": "python",
   "name": "python3"
  },
  "language_info": {
   "codemirror_mode": {
    "name": "ipython",
    "version": 3
   },
   "file_extension": ".py",
   "mimetype": "text/x-python",
   "name": "python",
   "nbconvert_exporter": "python",
   "pygments_lexer": "ipython3",
   "version": "3.9.13"
  }
 },
 "nbformat": 4,
 "nbformat_minor": 5
}
