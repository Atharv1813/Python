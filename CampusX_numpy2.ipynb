{
 "cells": [
  {
   "cell_type": "code",
   "execution_count": 16,
   "id": "fddb9aa4-ac25-400f-b07e-38655b834eb3",
   "metadata": {},
   "outputs": [],
   "source": [
    "import numpy as np"
   ]
  },
  {
   "cell_type": "code",
   "execution_count": 17,
   "id": "351a78f8-c87c-49d0-b41d-db57f417b635",
   "metadata": {},
   "outputs": [
    {
     "data": {
      "text/plain": [
       "1.3659148216247559"
      ]
     },
     "execution_count": 17,
     "metadata": {},
     "output_type": "execute_result"
    }
   ],
   "source": [
    "a = [i for i in range(10000000)]\n",
    "b = [i for i in range(10000000, 20000000)] \n",
    "c = []\n",
    "\n",
    "import time\n",
    "start = time.time()\n",
    "\n",
    "for i in range(len(a)):\n",
    "    c.append(a[i] + b[i])\n",
    "\n",
    "t1 = time.time() - start\n",
    "t1"
   ]
  },
  {
   "cell_type": "code",
   "execution_count": 18,
   "id": "10759937-f88d-4305-866e-7a8094679865",
   "metadata": {},
   "outputs": [
    {
     "data": {
      "text/plain": [
       "0.07474327087402344"
      ]
     },
     "execution_count": 18,
     "metadata": {},
     "output_type": "execute_result"
    }
   ],
   "source": [
    "a = np.arange(10000000)\n",
    "b = np.arange(10000000, 20000000)\n",
    "import time\n",
    "start = time.time()\n",
    "c = a + b\n",
    "t2 = time.time()-start\n",
    "t2"
   ]
  },
  {
   "cell_type": "code",
   "execution_count": 19,
   "id": "c69e9a23-a4af-43ff-b348-ae535ca3fc72",
   "metadata": {},
   "outputs": [
    {
     "name": "stdout",
     "output_type": "stream",
     "text": [
      "18.274753106897695\n"
     ]
    }
   ],
   "source": [
    "print(t1 / t2)"
   ]
  },
  {
   "cell_type": "markdown",
   "id": "d5a757de-00ad-448a-a065-79933a531003",
   "metadata": {},
   "source": [
    "NumPy is faster than Python lists because of several key reasons:\n",
    "\n",
    "### 1. **Memory Efficiency (Contiguous Storage)**\n",
    "   - NumPy arrays are stored in contiguous memory blocks, unlike Python lists which are pointers to objects. This allows NumPy to access and manipulate data more efficiently.\n",
    "   - Python lists store each element as an individual Python object, adding overhead (memory for the object and type information), whereas NumPy arrays store raw numerical data in a much more compact form.\n",
    "\n",
    "### 2. **Vectorization**\n",
    "   - NumPy uses vectorized operations, meaning operations are applied to entire arrays at once, without explicit loops. This is achieved through low-level implementations in C and Fortran.\n",
    "   - Python lists require explicit loops in Python (which is slower), whereas NumPy leverages optimized C-based operations, avoiding the loop overhead.\n",
    "\n",
    "   Example:\n",
    "   ```python\n",
    "   # Python list addition (slow, requires a loop)\n",
    "   result = [a[i] + b[i] for i in range(len(a))]\n",
    "\n",
    "   # NumPy addition (fast, vectorized)\n",
    "   result = a + b\n",
    "   ```\n",
    "\n",
    "### 3. **Optimized for Numerical Computation**\n",
    "   - NumPy is designed specifically for numerical and scientific computations, so it is highly optimized for operations like addition, multiplication, and matrix operations.\n",
    "   - These optimizations include SIMD (Single Instruction, Multiple Data) instructions, multi-threading, and efficient memory management.\n",
    "\n",
    "### 4. **Low-Level Implementation**\n",
    "   - NumPy operations are implemented in lower-level languages like C, which are much faster than the interpreted Python code.\n",
    "   - The Python interpreter adds overhead when working with lists, while NumPy avoids this overhead by running operations at the compiled, lower level.\n",
    "\n",
    "### 5. **Avoids Type-Checking Overhead**\n",
    "   - Python lists can store mixed data types, so every operation must check the type of each element. NumPy arrays are homogeneous (all elements have the same type), which means no type-checking is needed during computations, leading to faster execution.\n",
    "\n",
    "### Summary:\n",
    "- **NumPy** is optimized for performance by using contiguous memory storage, vectorized operations, and low-level C implementations.\n",
    "- **Python lists**, on the other hand, are more general-purpose, storing data as individual Python objects with more overhead and requiring explicit loops for operations."
   ]
  },
  {
   "cell_type": "code",
   "execution_count": 28,
   "id": "c773d4ba-dd30-4963-be77-037e101a070d",
   "metadata": {},
   "outputs": [
    {
     "data": {
      "text/plain": [
       "89095160"
      ]
     },
     "execution_count": 28,
     "metadata": {},
     "output_type": "execute_result"
    }
   ],
   "source": [
    "a = [i for i in range(10000000)]\n",
    "import sys\n",
    "s1 = sys.getsizeof(a)\n",
    "s1"
   ]
  },
  {
   "cell_type": "code",
   "execution_count": 29,
   "id": "4810ed73-768a-41ea-acc1-ebaf6097998f",
   "metadata": {},
   "outputs": [
    {
     "data": {
      "text/plain": [
       "40000112"
      ]
     },
     "execution_count": 29,
     "metadata": {},
     "output_type": "execute_result"
    }
   ],
   "source": [
    "a = np.arange(10000000)\n",
    "s2 = sys.getsizeof(a)\n",
    "s2"
   ]
  },
  {
   "cell_type": "code",
   "execution_count": 30,
   "id": "4c52129e-b6f6-4cc5-80c1-6f9911dc20ca",
   "metadata": {},
   "outputs": [
    {
     "data": {
      "text/plain": [
       "2.2273727633562626"
      ]
     },
     "execution_count": 30,
     "metadata": {},
     "output_type": "execute_result"
    }
   ],
   "source": [
    "s1/s2"
   ]
  },
  {
   "cell_type": "markdown",
   "id": "db592811-0ec6-4392-a8c2-dbf360e88f43",
   "metadata": {},
   "source": [
    "The **size** and **storage** efficiency of NumPy arrays versus Python lists can be compared based on how they handle memory and data storage:\n",
    "\n",
    "### 1. **Memory Usage (Size)**\n",
    "   - **Python Lists**: Each element in a Python list is a full-fledged Python object, which means it includes additional metadata like type information, reference counters, and other object overhead. Each element is essentially a pointer to a Python object stored elsewhere in memory.\n",
    "   - **NumPy Arrays**: In contrast, NumPy arrays store elements as raw data in contiguous blocks of memory without additional object overhead. The elements are of a fixed type (homogeneous), allowing for much more compact storage.\n",
    "\n",
    "\n",
    "### 2. **Storage Comparison**\n",
    "Let’s break down the storage differences:\n",
    "\n",
    "- **Python Lists**:\n",
    "  - Each integer in a Python list takes about **28 bytes** on a 64-bit system.\n",
    "  - A list of 1 million integers will take approximately **28 MB** (each integer is an object, including the object overhead).\n",
    "\n",
    "- **NumPy Arrays**:\n",
    "  - Each integer in a NumPy array of type `int32` takes **4 bytes** (since it’s stored as a raw 32-bit integer).\n",
    "  - A NumPy array of 1 million integers will take only **4 MB** of memory, as it avoids the object overhead.\n",
    "\n",
    "\n",
    "### Summary:\n",
    "- **Python lists** require significantly more memory (due to object overhead, pointers, and dynamic typing).\n",
    "- **NumPy arrays** are much more memory-efficient, storing data in contiguous blocks without extra object overhead and fixed data types.\n",
    "\n",
    "This difference in storage is one of the reasons why NumPy is preferred for handling large datasets, especially for numerical computations."
   ]
  },
  {
   "cell_type": "code",
   "execution_count": 40,
   "id": "33057bda-3a6a-4fbf-a7dc-890e258568c1",
   "metadata": {},
   "outputs": [
    {
     "name": "stdout",
     "output_type": "stream",
     "text": [
      "[[ 0  1  2  3]\n",
      " [ 4  5  6  7]\n",
      " [ 8  9 10 11]\n",
      " [12 13 14 15]\n",
      " [16 17 18 19]]\n"
     ]
    }
   ],
   "source": [
    "a2 = np.arange(20).reshape(5,4)\n",
    "print(a2)"
   ]
  },
  {
   "cell_type": "code",
   "execution_count": 41,
   "id": "b6ec6136-8b4f-4ba3-a991-98a2c83267af",
   "metadata": {},
   "outputs": [
    {
     "name": "stdout",
     "output_type": "stream",
     "text": [
      "[[ 4  5  6  7]\n",
      " [12 13 14 15]]\n"
     ]
    }
   ],
   "source": [
    "#if we ask to print 2nd 4th row the we can do :\n",
    "print(a2[ 1::2 ,: ])"
   ]
  },
  {
   "cell_type": "code",
   "execution_count": 42,
   "id": "a34a9918-40e3-4ba6-b890-58254526c53e",
   "metadata": {},
   "outputs": [],
   "source": [
    "#but we cant do 2nd and 5th row bcz they arent alternate odd or even\n",
    "# what is we want to acces only 2nd and 456th row out of 500 rows in matrix for that we can use fancy indexing"
   ]
  },
  {
   "cell_type": "markdown",
   "id": "50fb0b39-d6b7-4053-be7d-5f40c0b83d5d",
   "metadata": {},
   "source": [
    "Fancy indexing in NumPy refers to the ability to access and modify elements of an array using other arrays or sequences of integers, rather than just using slices or single indices. This feature allows for more flexible data manipulation and retrieval.\n",
    "\n",
    "### Key Features of Fancy Indexing\n",
    "\n",
    "1. **Array of Indices**: In fancy indexing, you can use an array (or list) of indices to access multiple elements of an array simultaneously. For example, if you have a NumPy array and you provide a list of indices, NumPy returns a new array containing the values at those specified indices.\n",
    "\n",
    "2. **Boolean Indexing**: Another form of fancy indexing involves using boolean arrays. If you have a boolean array that is the same shape as the original array, you can use it to select elements that correspond to `True` values. This is particularly useful for filtering data based on certain conditions.\n",
    "\n",
    "3. **Higher Dimensions**: Fancy indexing can be applied to multi-dimensional arrays. You can use separate arrays of indices for each dimension to select specific elements or slices. This allows for complex data manipulation in high-dimensional spaces.\n",
    "\n",
    "4. **Performance**: Fancy indexing can sometimes lead to a performance overhead compared to regular indexing or slicing because it may involve creating copies of data. However, it allows for more expressive and concise code.\n",
    "\n",
    "5. **Assignment**: You can also use fancy indexing for assignment. For example, you can use an array of indices to modify multiple elements of an array at once. This is useful for bulk updates based on specific conditions.\n",
    "\n",
    "### Comparison with Standard Indexing\n",
    "\n",
    "- **Standard Indexing**: In standard indexing, you access elements using single indices or slices. For instance, `array[2]` retrieves the element at index 2, while `array[1:4]` retrieves a slice from index 1 to 3.\n",
    "- **Fancy Indexing**: Fancy indexing allows for more complex operations, such as `array[[0, 2, 4]]` to get the elements at indices 0, 2, and 4 in one go.\n",
    "\n",
    "### Applications\n",
    "\n",
    "Fancy indexing is particularly useful in various applications, such as:\n",
    "\n",
    "- **Data Analysis**: Quickly filtering datasets based on conditions, selecting specific rows or columns from a matrix.\n",
    "- **Machine Learning**: Manipulating feature sets or labels during preprocessing steps.\n",
    "- **Image Processing**: Selecting or modifying pixel values based on certain criteria.\n",
    "\n",
    "### Conclusion\n",
    "\n",
    "Fancy indexing is a powerful feature unique to NumPy that enhances the flexibility of array manipulation compared to standard Python lists. It allows for expressive and efficient data handling, making it a valuable tool in scientific computing, data analysis, and machine learning tasks."
   ]
  },
  {
   "cell_type": "code",
   "execution_count": 43,
   "id": "6951eefd-a792-4370-97c1-8d67c5c0174e",
   "metadata": {},
   "outputs": [
    {
     "name": "stdout",
     "output_type": "stream",
     "text": [
      "[[ 0  1  2  3]\n",
      " [ 4  5  6  7]\n",
      " [ 8  9 10 11]\n",
      " [12 13 14 15]\n",
      " [16 17 18 19]]\n"
     ]
    }
   ],
   "source": [
    "a2 = np.arange(20).reshape(5,4)\n",
    "print(a2)"
   ]
  },
  {
   "cell_type": "code",
   "execution_count": 45,
   "id": "27fd6df6-fef3-4adf-91d6-89dcab6cbb07",
   "metadata": {},
   "outputs": [
    {
     "data": {
      "text/plain": [
       "array([[ 4,  5,  6,  7],\n",
       "       [16, 17, 18, 19]])"
      ]
     },
     "execution_count": 45,
     "metadata": {},
     "output_type": "execute_result"
    }
   ],
   "source": [
    "a2[[1,4]] #print 1st and 5th row"
   ]
  },
  {
   "cell_type": "code",
   "execution_count": 46,
   "id": "e8c358fc-2519-408d-9a41-aa11a043a9cb",
   "metadata": {},
   "outputs": [],
   "source": [
    "# that is in fancy indexing we provide a list which can take whatever particualr index in any gaps sequcne and it can print it"
   ]
  },
  {
   "cell_type": "code",
   "execution_count": 48,
   "id": "4bbceb08-39a5-4f6e-ad98-760c175dec10",
   "metadata": {},
   "outputs": [
    {
     "data": {
      "text/plain": [
       "array([[16, 17, 18, 19],\n",
       "       [ 0,  1,  2,  3],\n",
       "       [ 4,  5,  6,  7]])"
      ]
     },
     "execution_count": 48,
     "metadata": {},
     "output_type": "execute_result"
    }
   ],
   "source": [
    "a2[[4,0,1]] # even if jumbled"
   ]
  },
  {
   "cell_type": "code",
   "execution_count": 51,
   "id": "9475b758-cb97-449c-bb68-ac0c7f91d49a",
   "metadata": {},
   "outputs": [
    {
     "data": {
      "text/plain": [
       "array([[ 0,  1,  3],\n",
       "       [ 4,  5,  7],\n",
       "       [ 8,  9, 11],\n",
       "       [12, 13, 15],\n",
       "       [16, 17, 19]])"
      ]
     },
     "execution_count": 51,
     "metadata": {},
     "output_type": "execute_result"
    }
   ],
   "source": [
    "# what about columns\n",
    "# what if we want 1st 2nd and 4th column\n",
    "a2[:, [0,1,3]] # see how list cinatins only columns we dont have [[]] now [] is after :, ***SEE SYNTAX CAREFULLY"
   ]
  },
  {
   "cell_type": "markdown",
   "id": "3ed2c181-52b4-464e-a4e7-7aa98a3140a6",
   "metadata": {},
   "source": [
    "### Boolean Indexing in NumPy\n",
    "\n",
    "**Definition**:  \n",
    "Boolean indexing in NumPy is a method of accessing or modifying array elements using boolean arrays, which are arrays of the same shape as the target array containing `True` and `False` values. It allows for selection based on specific conditions without the need for loops.\n",
    "\n",
    "---\n",
    "\n",
    "### Key Concepts\n",
    "\n",
    "1. **Boolean Arrays**:  \n",
    "   - A boolean array is generated from conditions applied to an existing array. Each element of the boolean array indicates whether the corresponding element in the original array meets a specified condition (True) or not (False).\n",
    "\n",
    "2. **Condition Evaluation**:  \n",
    "   - Common conditions involve comparisons (e.g., greater than, less than, equal to) or logical operations (e.g., AND, OR, NOT). These conditions produce boolean results for each element in the array.\n",
    "\n",
    "3. **Indexing Mechanism**:  \n",
    "   - When a boolean array is used to index an array, only the elements corresponding to `True` values in the boolean array are selected. This results in a new array containing just those elements.\n",
    "\n",
    "---\n",
    "\n",
    "### Advantages of Boolean Indexing\n",
    "\n",
    "1. **Simplicity**:  \n",
    "   - Boolean indexing simplifies the syntax for selecting elements compared to traditional methods. It reduces the need for loops and makes code cleaner and more readable.\n",
    "\n",
    "2. **Efficiency**:  \n",
    "   - Boolean indexing can be more efficient than manual filtering, as it leverages NumPy's optimized operations, which are implemented in C and can handle large arrays quickly.\n",
    "\n",
    "3. **In-place Modification**:  \n",
    "   - It allows for easy modification of elements. Using a boolean array, you can directly assign new values to elements that meet certain criteria without creating additional arrays.\n",
    "\n",
    "---\n",
    "\n",
    "### Applications\n",
    "\n",
    "1. **Data Filtering**:  \n",
    "   - Boolean indexing is widely used in data analysis to filter datasets based on certain attributes or thresholds. For example, selecting elements above a specific value or filtering out invalid data points.\n",
    "\n",
    "2. **Statistical Analysis**:  \n",
    "   - It facilitates statistical operations on subsets of data, such as calculating means or sums for specific groups that meet certain conditions.\n",
    "\n",
    "3. **Data Preprocessing in Machine Learning**:  \n",
    "   - Often used to preprocess datasets by removing outliers, normalizing features, or selecting features based on certain criteria.\n",
    "\n",
    "4. **Image Processing**:  \n",
    "   - In image analysis, boolean indexing can be employed to modify pixel values based on certain conditions, such as thresholding for segmentation.\n",
    "\n",
    "---\n",
    "\n",
    "### Example Scenarios\n",
    "\n",
    "1. **Selecting Positive Values**:  \n",
    "   - Given an array of numbers, a boolean array can be created to identify all positive values, allowing for easy extraction of only those elements.\n",
    "\n",
    "2. **Filtering Data Points**:  \n",
    "   - In a dataset containing various measurements, boolean indexing can be used to extract measurements that fall within a specified range.\n",
    "\n",
    "3. **Conditional Updates**:  \n",
    "   - If a condition is met (e.g., temperature readings above a threshold), boolean indexing can facilitate updating those specific values to a new set of values (e.g., marking them as outliers).\n",
    "\n",
    "---\n",
    "\n",
    "### Conclusion\n",
    "\n",
    "Boolean indexing is a powerful feature in NumPy that enhances data manipulation capabilities. It allows users to efficiently access and modify data based on conditions, simplifying code and improving performance, particularly in data analysis and scientific computing."
   ]
  },
  {
   "cell_type": "code",
   "execution_count": 54,
   "id": "52d5dd66-12bb-4bb7-a0c1-c50fc055b3c5",
   "metadata": {},
   "outputs": [
    {
     "data": {
      "text/plain": [
       "array([[85, 90, 13, 71],\n",
       "       [ 3, 44, 53, 58],\n",
       "       [64, 59, 62, 40],\n",
       "       [71, 86, 76, 77],\n",
       "       [32,  9,  7, 95],\n",
       "       [93, 87, 53, 45]])"
      ]
     },
     "execution_count": 54,
     "metadata": {},
     "output_type": "execute_result"
    }
   ],
   "source": [
    "a = np.random.randint(1, 100, 24).reshape(6,4) # total 24 ints to generate so written 24\n",
    "a"
   ]
  },
  {
   "cell_type": "code",
   "execution_count": 55,
   "id": "cf0a5f76-cf8f-4fe5-aae7-657581b39d21",
   "metadata": {},
   "outputs": [
    {
     "data": {
      "text/plain": [
       "array([[ True,  True, False,  True],\n",
       "       [False, False,  True,  True],\n",
       "       [ True,  True,  True, False],\n",
       "       [ True,  True,  True,  True],\n",
       "       [False, False, False,  True],\n",
       "       [ True,  True,  True, False]])"
      ]
     },
     "execution_count": 55,
     "metadata": {},
     "output_type": "execute_result"
    }
   ],
   "source": [
    "# find all numbers greater than 50\n",
    "a > 50"
   ]
  },
  {
   "cell_type": "code",
   "execution_count": 56,
   "id": "3028f111-cedc-4df0-adbd-62f197b9b374",
   "metadata": {},
   "outputs": [],
   "source": [
    "# above array is called as boolean array used in boolean masking"
   ]
  },
  {
   "cell_type": "code",
   "execution_count": 58,
   "id": "e8fc08cc-a932-49ce-b813-c1812f1e7cee",
   "metadata": {},
   "outputs": [
    {
     "data": {
      "text/plain": [
       "array([85, 90, 71, 53, 58, 64, 59, 62, 71, 86, 76, 77, 95, 93, 87, 53])"
      ]
     },
     "execution_count": 58,
     "metadata": {},
     "output_type": "execute_result"
    }
   ],
   "source": [
    "a[a > 50] # ******************************  BOOLEAN MASKING  *********************************"
   ]
  },
  {
   "cell_type": "code",
   "execution_count": 59,
   "id": "86c961b4-331d-4b3e-9428-23c7be56c5fe",
   "metadata": {},
   "outputs": [
    {
     "data": {
      "text/plain": [
       "array([90, 44, 58, 64, 62, 40, 86, 76, 32])"
      ]
     },
     "execution_count": 59,
     "metadata": {},
     "output_type": "execute_result"
    }
   ],
   "source": [
    "# find all even numbers\n",
    "a[a % 2 == 0]"
   ]
  },
  {
   "cell_type": "code",
   "execution_count": 61,
   "id": "69918cef-7e43-4b9c-af75-90a9fcd5a717",
   "metadata": {},
   "outputs": [
    {
     "data": {
      "text/plain": [
       "array([85, 90, 13, 71,  3, 44, 53, 58, 64, 59, 62, 40, 71, 86, 76, 32,  9,\n",
       "       95, 93, 87, 53, 45])"
      ]
     },
     "execution_count": 61,
     "metadata": {},
     "output_type": "execute_result"
    }
   ],
   "source": [
    "# find all numbers not divisible by 7\n",
    "a[ a % 7 != 0]"
   ]
  },
  {
   "cell_type": "code",
   "execution_count": 68,
   "id": "7180dada-a5c0-499c-a55f-88cb1588cd5e",
   "metadata": {},
   "outputs": [
    {
     "data": {
      "text/plain": [
       "array([90, 58, 64, 62, 86, 76])"
      ]
     },
     "execution_count": 68,
     "metadata": {},
     "output_type": "execute_result"
    }
   ],
   "source": [
    "# find all numbers which are greater than 50 and are even also\n",
    "a[ (a>50) & (a%2 == 0)] # and is used with numbers  & is used with boolean values"
   ]
  },
  {
   "cell_type": "markdown",
   "id": "331c2a9b-1abf-4166-96c2-d97fe902084d",
   "metadata": {},
   "source": [
    "**BROADCASTING**"
   ]
  },
  {
   "cell_type": "code",
   "execution_count": 69,
   "id": "7a2fce86-cf2f-469e-bc5f-d9e8af5a2c1f",
   "metadata": {},
   "outputs": [
    {
     "name": "stdout",
     "output_type": "stream",
     "text": [
      "[[0 1 2]\n",
      " [3 4 5]]\n",
      "[[0 1 2]]\n",
      "[[0 2 4]\n",
      " [3 5 7]]\n"
     ]
    }
   ],
   "source": [
    "# diff shape\n",
    "a = np.arange(6).reshape(2,3)\n",
    "b = np.arange(3).reshape(1,3)\n",
    "\n",
    "print(a)\n",
    "print(b)\n",
    "\n",
    "print(a+b)"
   ]
  },
  {
   "cell_type": "code",
   "execution_count": 70,
   "id": "531d584a-352a-42f7-b08a-cb570606fa9e",
   "metadata": {},
   "outputs": [],
   "source": [
    "# HOW IS THIS ADDITION POSSIBLE IF ARRRAYS ARE OF DIFFERENT SIZES ?"
   ]
  },
  {
   "cell_type": "markdown",
   "id": "d6e4e513-6295-49fa-9ba2-84b756f87187",
   "metadata": {},
   "source": [
    "**Broadcasting in NumPy** refers to a technique used to perform arithmetic operations on arrays of different shapes. When you try to operate on two arrays that do not have the same shape, NumPy automatically expands the smaller array across the larger array so that they have compatible shapes. This allows for element-wise operations without the need for explicit replication of data.\n",
    "\n",
    "### Broadcasting Rules\n",
    "1. **Match Dimensions:** Make the two arrays have the same number of dimensions. If they differ, add new dimensions with size 1 to the array with fewer dimensions.\n",
    "2. **Match Sizes:** Ensure each dimension of the two arrays has the same size. If they don't match, dimensions with size 1 are stretched to match the size of the other array. If any dimension has a size that is not 1 in either array, broadcasting cannot occur, resulting in an error."
   ]
  },
  {
   "cell_type": "code",
   "execution_count": 74,
   "id": "72fe0eb5-8cd0-4cac-9c5d-ef26e67f73b6",
   "metadata": {},
   "outputs": [
    {
     "data": {
      "image/png": "[encoded data removed]",
      "text/plain": [
       "<IPython.core.display.Image object>"
      ]
     },
     "execution_count": 74,
     "metadata": {},
     "output_type": "execute_result"
    }
   ],
   "source": [
    "from IPython.display import Image\n",
    "Image(\"Broadcasting_img.png\")"
   ]
  },
  {
   "cell_type": "code",
   "execution_count": 76,
   "id": "af72bcc6-489b-4727-8c0f-2b311670f99d",
   "metadata": {},
   "outputs": [
    {
     "name": "stdout",
     "output_type": "stream",
     "text": [
      "[0 1 2]\n",
      "[5 6 7]\n"
     ]
    }
   ],
   "source": [
    "# Create a 1D array using np.arange\n",
    "arr1 = np.arange(3)\n",
    "print(arr1)\n",
    "# Add a scalar value to the array\n",
    "result1 = arr1 + 5\n",
    "print(result1)"
   ]
  },
  {
   "cell_type": "code",
   "execution_count": 77,
   "id": "16377e20-7ee9-4ca2-90e2-ae5f3791e833",
   "metadata": {},
   "outputs": [
    {
     "name": "stdout",
     "output_type": "stream",
     "text": [
      "[[1. 1. 1.]\n",
      " [1. 1. 1.]\n",
      " [1. 1. 1.]]\n",
      "[0 1 2]\n",
      "[[1. 2. 3.]\n",
      " [1. 2. 3.]\n",
      " [1. 2. 3.]]\n"
     ]
    }
   ],
   "source": [
    "# Create a 2D array of ones\n",
    "arr2 = np.ones((3, 3))\n",
    "print(arr2)\n",
    "# Create a 1D array using np.arange\n",
    "arr3 = np.arange(3)\n",
    "print(arr3)\n",
    "# Add the two arrays together (broadcasting the 1D array across the 2D array)\n",
    "result2 = arr2 + arr3\n",
    "print(result2)"
   ]
  },
  {
   "cell_type": "code",
   "execution_count": 78,
   "id": "42bb459c-4ea2-40c3-a7fc-b3ecbc30fa18",
   "metadata": {},
   "outputs": [
    {
     "name": "stdout",
     "output_type": "stream",
     "text": [
      "[0 1 2]\n",
      "[[0]\n",
      " [1]\n",
      " [2]]\n",
      "[[0 1 2]\n",
      " [1 2 3]\n",
      " [2 3 4]]\n"
     ]
    }
   ],
   "source": [
    "# Create a 1D array using np.arange\n",
    "arr4 = np.arange(3)\n",
    "print(arr4)\n",
    "# Reshape the array to be 3x1\n",
    "arr5 = arr4.reshape((3, 1))\n",
    "print(arr5)\n",
    "# Add the reshaped array to the original 1D array\n",
    "result3 = arr5 + arr4\n",
    "print(result3)"
   ]
  },
  {
   "cell_type": "code",
   "execution_count": 79,
   "id": "fbb351f9-0112-451e-9f07-7f05790e9afc",
   "metadata": {},
   "outputs": [],
   "source": [
    "# verify above results with image given above"
   ]
  },
  {
   "cell_type": "code",
   "execution_count": 80,
   "id": "a67ee80a-9fc7-4447-a674-68cb8eea2f28",
   "metadata": {},
   "outputs": [
    {
     "name": "stdout",
     "output_type": "stream",
     "text": [
      "[[ 0  1  2]\n",
      " [ 3  4  5]\n",
      " [ 6  7  8]\n",
      " [ 9 10 11]]\n",
      "[0 1 2]\n",
      "[[ 0  2  4]\n",
      " [ 3  5  7]\n",
      " [ 6  8 10]\n",
      " [ 9 11 13]]\n"
     ]
    }
   ],
   "source": [
    "# More examples\n",
    "\n",
    "a = np.arange(12).reshape(4,3)\n",
    "b = np.arange(3)\n",
    "\n",
    "print(a)\n",
    "print(b)\n",
    "\n",
    "print(a+b)"
   ]
  },
  {
   "cell_type": "code",
   "execution_count": 81,
   "id": "6fcbbec7-d539-4f83-aba3-1cfcdc2d2a60",
   "metadata": {},
   "outputs": [
    {
     "name": "stdout",
     "output_type": "stream",
     "text": [
      "[[ 0  1  2  3]\n",
      " [ 4  5  6  7]\n",
      " [ 8  9 10 11]]\n",
      "[0 1 2]\n"
     ]
    },
    {
     "ename": "ValueError",
     "evalue": "operands could not be broadcast together with shapes (3,4) (3,) ",
     "output_type": "error",
     "traceback": [
      "\u001b[1;31m---------------------------------------------------------------------------\u001b[0m",
      "\u001b[1;31mValueError\u001b[0m                                Traceback (most recent call last)",
      "Cell \u001b[1;32mIn[81], line 7\u001b[0m\n\u001b[0;32m      4\u001b[0m \u001b[38;5;28mprint\u001b[39m(a)\n\u001b[0;32m      5\u001b[0m \u001b[38;5;28mprint\u001b[39m(b)\n\u001b[1;32m----> 7\u001b[0m \u001b[38;5;28mprint\u001b[39m(a\u001b[38;5;241m+\u001b[39mb)\n",
      "\u001b[1;31mValueError\u001b[0m: operands could not be broadcast together with shapes (3,4) (3,) "
     ]
    }
   ],
   "source": [
    "a = np.arange(12).reshape(3,4)\n",
    "b = np.arange(3)\n",
    "\n",
    "print(a)\n",
    "print(b)\n",
    "\n",
    "print(a+b)"
   ]
  },
  {
   "cell_type": "code",
   "execution_count": 82,
   "id": "ecc7f069-1502-4d6b-ba70-37cd5c0f84ca",
   "metadata": {},
   "outputs": [
    {
     "name": "stdout",
     "output_type": "stream",
     "text": [
      "[[0 1 2]]\n",
      "[[0]\n",
      " [1]\n",
      " [2]\n",
      " [3]]\n",
      "[[0 1 2]\n",
      " [1 2 3]\n",
      " [2 3 4]\n",
      " [3 4 5]]\n"
     ]
    }
   ],
   "source": [
    "a = np.arange(3).reshape(1,3)\n",
    "b = np.arange(4).reshape(4,1)\n",
    "\n",
    "print(a)\n",
    "print(b)\n",
    "\n",
    "print(a + b)"
   ]
  },
  {
   "cell_type": "code",
   "execution_count": 83,
   "id": "87746ccf-cc41-4c75-8b9c-9ac576210702",
   "metadata": {},
   "outputs": [
    {
     "name": "stdout",
     "output_type": "stream",
     "text": [
      "[1]\n",
      "[[0 1]\n",
      " [2 3]]\n",
      "[[1 2]\n",
      " [3 4]]\n"
     ]
    }
   ],
   "source": [
    "a = np.array([1])\n",
    "# shape -> (1,1)\n",
    "b = np.arange(4).reshape(2,2)\n",
    "# shape -> (2,2)\n",
    "\n",
    "print(a)\n",
    "print(b)\n",
    "\n",
    "print(a+b)"
   ]
  },
  {
   "cell_type": "code",
   "execution_count": 84,
   "id": "2d0844fe-b7df-46e4-934d-f3382139d7a6",
   "metadata": {},
   "outputs": [
    {
     "name": "stdout",
     "output_type": "stream",
     "text": [
      "[[ 0  1  2  3]\n",
      " [ 4  5  6  7]\n",
      " [ 8  9 10 11]]\n",
      "[[ 0  1  2]\n",
      " [ 3  4  5]\n",
      " [ 6  7  8]\n",
      " [ 9 10 11]]\n"
     ]
    },
    {
     "ename": "ValueError",
     "evalue": "operands could not be broadcast together with shapes (3,4) (4,3) ",
     "output_type": "error",
     "traceback": [
      "\u001b[1;31m---------------------------------------------------------------------------\u001b[0m",
      "\u001b[1;31mValueError\u001b[0m                                Traceback (most recent call last)",
      "Cell \u001b[1;32mIn[84], line 7\u001b[0m\n\u001b[0;32m      4\u001b[0m \u001b[38;5;28mprint\u001b[39m(a)\n\u001b[0;32m      5\u001b[0m \u001b[38;5;28mprint\u001b[39m(b)\n\u001b[1;32m----> 7\u001b[0m \u001b[38;5;28mprint\u001b[39m(a\u001b[38;5;241m+\u001b[39mb)\n",
      "\u001b[1;31mValueError\u001b[0m: operands could not be broadcast together with shapes (3,4) (4,3) "
     ]
    }
   ],
   "source": [
    "a = np.arange(12).reshape(3,4)\n",
    "b = np.arange(12).reshape(4,3)\n",
    "\n",
    "print(a)\n",
    "print(b)\n",
    "\n",
    "print(a+b)"
   ]
  },
  {
   "cell_type": "code",
   "execution_count": 85,
   "id": "dd249781-369b-4346-9d52-620b5a3f09b9",
   "metadata": {},
   "outputs": [
    {
     "name": "stdout",
     "output_type": "stream",
     "text": [
      "[[ 0  1  2  3]\n",
      " [ 4  5  6  7]\n",
      " [ 8  9 10 11]\n",
      " [12 13 14 15]]\n",
      "[[0 1]\n",
      " [2 3]]\n"
     ]
    },
    {
     "ename": "ValueError",
     "evalue": "operands could not be broadcast together with shapes (4,4) (2,2) ",
     "output_type": "error",
     "traceback": [
      "\u001b[1;31m---------------------------------------------------------------------------\u001b[0m",
      "\u001b[1;31mValueError\u001b[0m                                Traceback (most recent call last)",
      "Cell \u001b[1;32mIn[85], line 7\u001b[0m\n\u001b[0;32m      4\u001b[0m \u001b[38;5;28mprint\u001b[39m(a)\n\u001b[0;32m      5\u001b[0m \u001b[38;5;28mprint\u001b[39m(b)\n\u001b[1;32m----> 7\u001b[0m \u001b[38;5;28mprint\u001b[39m(a\u001b[38;5;241m+\u001b[39mb)\n",
      "\u001b[1;31mValueError\u001b[0m: operands could not be broadcast together with shapes (4,4) (2,2) "
     ]
    }
   ],
   "source": [
    "a = np.arange(16).reshape(4,4)\n",
    "b = np.arange(4).reshape(2,2)\n",
    "\n",
    "print(a)\n",
    "print(b)\n",
    "\n",
    "print(a+b)"
   ]
  },
  {
   "cell_type": "code",
   "execution_count": 86,
   "id": "11e3273a-5ca0-431f-9e21-72de3d1e88e5",
   "metadata": {},
   "outputs": [],
   "source": [
    "# WORKING WITH MATHS FORMULAS"
   ]
  },
  {
   "cell_type": "code",
   "execution_count": 92,
   "id": "5b849add-ae0e-4cbf-8090-4535eaa6dc04",
   "metadata": {},
   "outputs": [
    {
     "data": {
      "text/plain": [
       "array([ 0,  1,  2,  3,  4,  5,  6,  7,  8,  9, 10, 11, 12, 13, 14, 15, 16,\n",
       "       17, 18, 19, 20, 21, 22, 23, 24, 25, 26, 27, 28, 29, 30, 31, 32, 33,\n",
       "       34, 35, 36, 37, 38, 39, 40, 41, 42, 43, 44, 45, 46, 47, 48, 49, 50,\n",
       "       51, 52, 53, 54, 55, 56, 57, 58, 59, 60, 61, 62, 63, 64, 65, 66, 67,\n",
       "       68, 69, 70, 71, 72, 73, 74, 75, 76, 77, 78, 79, 80, 81, 82, 83, 84,\n",
       "       85, 86, 87, 88, 89, 90, 91, 92, 93, 94, 95, 96, 97, 98, 99])"
      ]
     },
     "execution_count": 92,
     "metadata": {},
     "output_type": "execute_result"
    }
   ],
   "source": [
    "a = np.arange(100)\n",
    "a"
   ]
  },
  {
   "cell_type": "code",
   "execution_count": 93,
   "id": "3c550c6e-eeae-493d-a0e9-82dffb929ec8",
   "metadata": {},
   "outputs": [
    {
     "data": {
      "text/plain": [
       "array([ 0.        ,  0.84147098,  0.90929743,  0.14112001, -0.7568025 ,\n",
       "       -0.95892427, -0.2794155 ,  0.6569866 ,  0.98935825,  0.41211849,\n",
       "       -0.54402111, -0.99999021, -0.53657292,  0.42016704,  0.99060736,\n",
       "        0.65028784, -0.28790332, -0.96139749, -0.75098725,  0.14987721,\n",
       "        0.91294525,  0.83665564, -0.00885131, -0.8462204 , -0.90557836,\n",
       "       -0.13235175,  0.76255845,  0.95637593,  0.27090579, -0.66363388,\n",
       "       -0.98803162, -0.40403765,  0.55142668,  0.99991186,  0.52908269,\n",
       "       -0.42818267, -0.99177885, -0.64353813,  0.29636858,  0.96379539,\n",
       "        0.74511316, -0.15862267, -0.91652155, -0.83177474,  0.01770193,\n",
       "        0.85090352,  0.90178835,  0.12357312, -0.76825466, -0.95375265,\n",
       "       -0.26237485,  0.67022918,  0.98662759,  0.39592515, -0.55878905,\n",
       "       -0.99975517, -0.521551  ,  0.43616476,  0.99287265,  0.63673801,\n",
       "       -0.30481062, -0.96611777, -0.7391807 ,  0.1673557 ,  0.92002604,\n",
       "        0.82682868, -0.02655115, -0.85551998, -0.89792768, -0.11478481,\n",
       "        0.77389068,  0.95105465,  0.25382336, -0.67677196, -0.98514626,\n",
       "       -0.38778164,  0.56610764,  0.99952016,  0.51397846, -0.44411267,\n",
       "       -0.99388865, -0.62988799,  0.31322878,  0.96836446,  0.73319032,\n",
       "       -0.17607562, -0.92345845, -0.82181784,  0.0353983 ,  0.86006941,\n",
       "        0.89399666,  0.10598751, -0.77946607, -0.94828214, -0.24525199,\n",
       "        0.68326171,  0.98358775,  0.37960774, -0.57338187, -0.99920683])"
      ]
     },
     "execution_count": 93,
     "metadata": {},
     "output_type": "execute_result"
    }
   ],
   "source": [
    "np.sin(a)"
   ]
  },
  {
   "cell_type": "code",
   "execution_count": 96,
   "id": "389440a5-bff9-44d6-84bf-dbf4b98c7f37",
   "metadata": {},
   "outputs": [],
   "source": [
    "def sigmoid(x):\n",
    "    return 1/(1 + np.exp(-x))"
   ]
  },
  {
   "cell_type": "code",
   "execution_count": 97,
   "id": "9ddbb0ff-9702-4b29-b437-eef5ed4893b8",
   "metadata": {},
   "outputs": [
    {
     "data": {
      "text/plain": [
       "array([0.5       , 0.73105858, 0.88079708, 0.95257413, 0.98201379,\n",
       "       0.99330715, 0.99752738, 0.99908895, 0.99966465, 0.99987661,\n",
       "       0.9999546 , 0.9999833 , 0.99999386, 0.99999774, 0.99999917,\n",
       "       0.99999969, 0.99999989, 0.99999996, 0.99999998, 0.99999999,\n",
       "       1.        , 1.        , 1.        , 1.        , 1.        ,\n",
       "       1.        , 1.        , 1.        , 1.        , 1.        ,\n",
       "       1.        , 1.        , 1.        , 1.        , 1.        ,\n",
       "       1.        , 1.        , 1.        , 1.        , 1.        ,\n",
       "       1.        , 1.        , 1.        , 1.        , 1.        ,\n",
       "       1.        , 1.        , 1.        , 1.        , 1.        ,\n",
       "       1.        , 1.        , 1.        , 1.        , 1.        ,\n",
       "       1.        , 1.        , 1.        , 1.        , 1.        ,\n",
       "       1.        , 1.        , 1.        , 1.        , 1.        ,\n",
       "       1.        , 1.        , 1.        , 1.        , 1.        ,\n",
       "       1.        , 1.        , 1.        , 1.        , 1.        ,\n",
       "       1.        , 1.        , 1.        , 1.        , 1.        ,\n",
       "       1.        , 1.        , 1.        , 1.        , 1.        ,\n",
       "       1.        , 1.        , 1.        , 1.        , 1.        ,\n",
       "       1.        , 1.        , 1.        , 1.        , 1.        ,\n",
       "       1.        , 1.        , 1.        , 1.        , 1.        ])"
      ]
     },
     "execution_count": 97,
     "metadata": {},
     "output_type": "execute_result"
    }
   ],
   "source": [
    "sigmoid(a)"
   ]
  },
  {
   "cell_type": "code",
   "execution_count": 98,
   "id": "ae81167f-39e5-468d-899c-b958ac260a25",
   "metadata": {},
   "outputs": [],
   "source": [
    "actual = np.random.randint(1, 50, 25)\n",
    "predicted = np.random.randint(1, 50, 25)"
   ]
  },
  {
   "cell_type": "code",
   "execution_count": 99,
   "id": "2d075f1d-b6c4-41be-a0a3-ff0efa321054",
   "metadata": {},
   "outputs": [],
   "source": [
    "def mse(actual, predicted):\n",
    "    return np.mean((actual-predicted)**2)"
   ]
  },
  {
   "cell_type": "code",
   "execution_count": 100,
   "id": "caed09fb-852d-442c-b5ed-9691240ab750",
   "metadata": {},
   "outputs": [
    {
     "data": {
      "text/plain": [
       "249.32"
      ]
     },
     "execution_count": 100,
     "metadata": {},
     "output_type": "execute_result"
    }
   ],
   "source": [
    "mse(actual, predicted)"
   ]
  },
  {
   "cell_type": "code",
   "execution_count": 101,
   "id": "26b88faf-2eb0-4282-a93c-7b6e6eaac4fa",
   "metadata": {},
   "outputs": [],
   "source": [
    "# DEALING WITH MISSING VALUES"
   ]
  },
  {
   "cell_type": "code",
   "execution_count": 102,
   "id": "1f8abe48-cde2-4e02-b61f-a68de3156238",
   "metadata": {},
   "outputs": [
    {
     "data": {
      "text/plain": [
       "array([ 1.,  2.,  3.,  4., nan,  6.])"
      ]
     },
     "execution_count": 102,
     "metadata": {},
     "output_type": "execute_result"
    }
   ],
   "source": [
    "a = np.array([1,2,3,4, np.nan, 6])\n",
    "a"
   ]
  },
  {
   "cell_type": "code",
   "execution_count": 104,
   "id": "cf5ea2eb-462a-4e57-aecc-7ce212fff761",
   "metadata": {},
   "outputs": [],
   "source": [
    "# NONE IS DIFFERENT THAN NAN  (NAN IS MISSING VALUE NONE IS NOTHING IS THERE ACTUAL NULL)"
   ]
  },
  {
   "cell_type": "code",
   "execution_count": 106,
   "id": "07b00336-67b6-42ff-913f-ee9995bad917",
   "metadata": {},
   "outputs": [
    {
     "data": {
      "text/plain": [
       "array([False, False, False, False,  True, False])"
      ]
     },
     "execution_count": 106,
     "metadata": {},
     "output_type": "execute_result"
    }
   ],
   "source": [
    "np.isnan(a) # boolean value so can use boolean masking"
   ]
  },
  {
   "cell_type": "code",
   "execution_count": 107,
   "id": "d7b01c59-19f4-4f1f-b45d-a9ec0eadb0fe",
   "metadata": {},
   "outputs": [
    {
     "data": {
      "text/plain": [
       "array([1., 2., 3., 4., 6.])"
      ]
     },
     "execution_count": 107,
     "metadata": {},
     "output_type": "execute_result"
    }
   ],
   "source": [
    "a[~(np.isnan(a))]"
   ]
  },
  {
   "cell_type": "code",
   "execution_count": 108,
   "id": "85fc71f8-e581-4356-a7f7-643851c4fbe8",
   "metadata": {},
   "outputs": [],
   "source": [
    "# plotting graphs"
   ]
  },
  {
   "cell_type": "code",
   "execution_count": 109,
   "id": "a7ba4227-44fc-43c0-b5bb-0a0b66961c16",
   "metadata": {},
   "outputs": [
    {
     "data": {
      "text/plain": [
       "array([-10.        ,  -9.7979798 ,  -9.5959596 ,  -9.39393939,\n",
       "        -9.19191919,  -8.98989899,  -8.78787879,  -8.58585859,\n",
       "        -8.38383838,  -8.18181818,  -7.97979798,  -7.77777778,\n",
       "        -7.57575758,  -7.37373737,  -7.17171717,  -6.96969697,\n",
       "        -6.76767677,  -6.56565657,  -6.36363636,  -6.16161616,\n",
       "        -5.95959596,  -5.75757576,  -5.55555556,  -5.35353535,\n",
       "        -5.15151515,  -4.94949495,  -4.74747475,  -4.54545455,\n",
       "        -4.34343434,  -4.14141414,  -3.93939394,  -3.73737374,\n",
       "        -3.53535354,  -3.33333333,  -3.13131313,  -2.92929293,\n",
       "        -2.72727273,  -2.52525253,  -2.32323232,  -2.12121212,\n",
       "        -1.91919192,  -1.71717172,  -1.51515152,  -1.31313131,\n",
       "        -1.11111111,  -0.90909091,  -0.70707071,  -0.50505051,\n",
       "        -0.3030303 ,  -0.1010101 ,   0.1010101 ,   0.3030303 ,\n",
       "         0.50505051,   0.70707071,   0.90909091,   1.11111111,\n",
       "         1.31313131,   1.51515152,   1.71717172,   1.91919192,\n",
       "         2.12121212,   2.32323232,   2.52525253,   2.72727273,\n",
       "         2.92929293,   3.13131313,   3.33333333,   3.53535354,\n",
       "         3.73737374,   3.93939394,   4.14141414,   4.34343434,\n",
       "         4.54545455,   4.74747475,   4.94949495,   5.15151515,\n",
       "         5.35353535,   5.55555556,   5.75757576,   5.95959596,\n",
       "         6.16161616,   6.36363636,   6.56565657,   6.76767677,\n",
       "         6.96969697,   7.17171717,   7.37373737,   7.57575758,\n",
       "         7.77777778,   7.97979798,   8.18181818,   8.38383838,\n",
       "         8.58585859,   8.78787879,   8.98989899,   9.19191919,\n",
       "         9.39393939,   9.5959596 ,   9.7979798 ,  10.        ])"
      ]
     },
     "execution_count": 109,
     "metadata": {},
     "output_type": "execute_result"
    }
   ],
   "source": [
    "x = np.linspace(-10, 10, 100)\n",
    "y = x\n",
    "y"
   ]
  },
  {
   "cell_type": "code",
   "execution_count": 110,
   "id": "9982540b-6d1e-45af-985e-c9145d9b7689",
   "metadata": {},
   "outputs": [
    {
     "data": {
      "text/plain": [
       "[<matplotlib.lines.Line2D at 0x1a3002f73d0>]"
      ]
     },
     "execution_count": 110,
     "metadata": {},
     "output_type": "execute_result"
    },
    {
     "data": {
      "image/png": "[encoded data removed]",
      "text/plain": [
       "<Figure size 640x480 with 1 Axes>"
      ]
     },
     "metadata": {},
     "output_type": "display_data"
    }
   ],
   "source": [
    "import matplotlib.pyplot as plt\n",
    "plt.plot(x, y)"
   ]
  },
  {
   "cell_type": "code",
   "execution_count": 111,
   "id": "54889851-d5bd-4572-a422-3c352186fd1c",
   "metadata": {},
   "outputs": [
    {
     "data": {
      "text/plain": [
       "[<matplotlib.lines.Line2D at 0x1a30059e050>]"
      ]
     },
     "execution_count": 111,
     "metadata": {},
     "output_type": "execute_result"
    },
    {
     "data": {
      "image/png": "[encoded data removed]",
      "text/plain": [
       "<Figure size 640x480 with 1 Axes>"
      ]
     },
     "metadata": {},
     "output_type": "display_data"
    }
   ],
   "source": [
    "y = x**2\n",
    "plt.plot(x, y)"
   ]
  },
  {
   "cell_type": "code",
   "execution_count": 113,
   "id": "8c187738-018e-4099-8cd4-96715776d759",
   "metadata": {},
   "outputs": [
    {
     "name": "stderr",
     "output_type": "stream",
     "text": [
      "C:\\Users\\athar\\AppData\\Local\\Temp\\ipykernel_24528\\680770548.py:1: RuntimeWarning: invalid value encountered in log\n",
      "  y = x*np.log(x)\n"
     ]
    },
    {
     "data": {
      "text/plain": [
       "[<matplotlib.lines.Line2D at 0x1a300409dd0>]"
      ]
     },
     "execution_count": 113,
     "metadata": {},
     "output_type": "execute_result"
    },
    {
     "data": {
      "image/png": "[encoded data removed]",
      "text/plain": [
       "<Figure size 640x480 with 1 Axes>"
      ]
     },
     "metadata": {},
     "output_type": "display_data"
    }
   ],
   "source": [
    "y = x*np.log(x)\n",
    "plt.plot(x, y)"
   ]
  },
  {
   "cell_type": "code",
   "execution_count": 115,
   "id": "285b5f05-34a6-420c-9e6b-a07fcf3622dd",
   "metadata": {},
   "outputs": [
    {
     "data": {
      "text/plain": [
       "[<matplotlib.lines.Line2D at 0x1a301743bd0>]"
      ]
     },
     "execution_count": 115,
     "metadata": {},
     "output_type": "execute_result"
    },
    {
     "data": {
      "image/png": "[encoded data removed]",
      "text/plain": [
       "<Figure size 640x480 with 1 Axes>"
      ]
     },
     "metadata": {},
     "output_type": "display_data"
    }
   ],
   "source": [
    "y = np.sin(x)\n",
    "plt.plot(x, y)"
   ]
  },
  {
   "cell_type": "code",
   "execution_count": 117,
   "id": "e4905882-fb79-4e46-b785-ee0d57c801b6",
   "metadata": {},
   "outputs": [
    {
     "data": {
      "text/plain": [
       "[<matplotlib.lines.Line2D at 0x1a3017e3bd0>]"
      ]
     },
     "execution_count": 117,
     "metadata": {},
     "output_type": "execute_result"
    },
    {
     "data": {
      "image/png": "[encoded data removed]",
      "text/plain": [
       "<Figure size 640x480 with 1 Axes>"
      ]
     },
     "metadata": {},
     "output_type": "display_data"
    }
   ],
   "source": [
    "y = x*np.sin(x)\n",
    "plt.plot(x, y)"
   ]
  },
  {
   "cell_type": "code",
   "execution_count": 118,
   "id": "d52aa801-db2c-4720-bc3d-3b87290fab4f",
   "metadata": {},
   "outputs": [
    {
     "data": {
      "text/plain": [
       "[<matplotlib.lines.Line2D at 0x1a3016991d0>]"
      ]
     },
     "execution_count": 118,
     "metadata": {},
     "output_type": "execute_result"
    },
    {
     "data": {
      "image/png": "[encoded data removed]",
      "text/plain": [
       "<Figure size 640x480 with 1 Axes>"
      ]
     },
     "metadata": {},
     "output_type": "display_data"
    }
   ],
   "source": [
    "y = sigmoid(x)\n",
    "plt.plot(x, y)"
   ]
  },
  {
   "cell_type": "code",
   "execution_count": null,
   "id": "e10aa0e0-9ec5-4de9-ba40-d461da77d63f",
   "metadata": {},
   "outputs": [],
   "source": []
  }
 ],
 "metadata": {
  "kernelspec": {
   "display_name": "Python 3 (ipykernel)",
   "language": "python",
   "name": "python3"
  },
  "language_info": {
   "codemirror_mode": {
    "name": "ipython",
    "version": 3
   },
   "file_extension": ".py",
   "mimetype": "text/x-python",
   "name": "python",
   "nbconvert_exporter": "python",
   "pygments_lexer": "ipython3",
   "version": "3.11.7"
  }
 },
 "nbformat": 4,
 "nbformat_minor": 5
}
