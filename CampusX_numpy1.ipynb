{
 "cells": [
  {
   "cell_type": "markdown",
   "id": "1f2024c7-b372-426e-9bff-84b26668d404",
   "metadata": {},
   "source": [
    "NumPy is a powerful Python library designed for numerical computations. It is widely used in data science, scientific computing, and machine learning due to its efficiency in handling large datasets and its support for multidimensional arrays. Below are detailed notes about NumPy:\n",
    "\n",
    "### 1. **What is NumPy?**\n",
    "   - **NumPy** stands for **Numerical Python**.\n",
    "   - It provides support for working with **ndarrays** (N-dimensional arrays), which allow for efficient storage and manipulation of large datasets.\n",
    "   - In addition to arrays, NumPy includes a range of mathematical functions and tools for working with domains like **linear algebra**, **Fourier transforms**, and **random number generation**.\n",
    "\n",
    "### 2. **Why Use NumPy?**\n",
    "   - **Efficiency**: NumPy arrays (ndarrays) are much faster than Python lists, especially when performing mathematical operations or processing large datasets.\n",
    "   - **Optimized for Speed**: Arrays are stored in **contiguous memory locations**, which allows for better CPU caching and faster access (locality of reference).\n",
    "   - **Rich Functionality**: NumPy comes with a vast array of built-in functions for operations on arrays, such as reshaping, broadcasting, and mathematical operations.\n",
    "   - **Multidimensional Arrays**: NumPy is not limited to 1D arrays but supports arrays with multiple dimensions, which are essential for data science tasks, such as image processing and matrix computations.\n",
    "\n",
    "### 3. **Why is NumPy Faster than Python Lists?**\n",
    "   - **Contiguous Memory Allocation**: Unlike Python lists, which are dynamically resized and can be stored in non-contiguous memory, NumPy arrays are allocated in continuous memory blocks, improving cache performance.\n",
    "   - **Vectorized Operations**: NumPy can perform operations on entire arrays at once, without needing explicit loops (vectorization). This takes advantage of **SIMD (Single Instruction, Multiple Data)** instructions, making it much faster.\n",
    "   - **Data Type Uniformity**: Each NumPy array has a specific data type, making memory management and computational overhead lower compared to lists, where each element could have a different data type.\n",
    "\n",
    "### 4. **NumPy vs Python Lists**:\n",
    "   - **Size**: NumPy arrays consume less memory than lists, as lists store data along with type information and pointers.\n",
    "   - **Speed**: Operations like addition, multiplication, or broadcasting are significantly faster with NumPy arrays.\n",
    "   - **Functionality**: NumPy supports advanced operations such as **matrix multiplication**, **transpositions**, and **linear algebra** out of the box, while Python lists would require additional libraries or manual implementation.\n",
    "\n",
    "### 5. **Important Concepts in NumPy**:\n",
    "   - **ndarray (N-dimensional array)**: The core object in NumPy, supporting efficient storage and manipulation of large datasets. It can be of any dimensionality (e.g., 1D, 2D, or higher).\n",
    "   - **Shape and Dimensions**: Every ndarray has a shape, which defines how many elements are in each dimension (e.g., rows and columns in a 2D array).\n",
    "   - **Broadcasting**: NumPy supports broadcasting, which allows operations on arrays of different shapes, expanding smaller arrays so they can be combined with larger ones.\n",
    "   - **Universal Functions (ufuncs)**: These are functions that perform element-wise operations on ndarrays. Examples include `np.add()`, `np.multiply()`, and `np.exp()`.\n",
    "\n",
    "### 6. **NumPy Ecosystem**:\n",
    "   - **Integration**: NumPy is at the core of many other scientific libraries, including **pandas** (for data manipulation), **SciPy** (for scientific computations), and **matplotlib** (for data visualization).\n",
    "   - **Data Science and Machine Learning**: NumPy arrays are often the primary data structure used in frameworks like **TensorFlow**, **scikit-learn**, and **PyTorch** for building machine learning models.\n",
    "\n",
    "### 7. **Memory Efficiency**:\n",
    "   - **Fixed Data Types**: Each element in a NumPy array must be of the same data type (e.g., float, int), which allows NumPy to allocate memory efficiently and ensures uniformity.\n",
    "   - **Data Buffering**: Since NumPy arrays are stored contiguously, they support efficient buffering, making mathematical operations highly optimized.\n",
    "\n",
    "### 8. **Cross-Language Efficiency**:\n",
    "   - **Written in C/C++**: Although NumPy is primarily a Python library, many of its computationally heavy operations are implemented in **C** and **C++**, enabling it to harness the low-level speed of these languages.\n",
    "   - **Interfacing**: NumPy arrays can interface with C, C++, and Fortran, making it a bridge for integrating Python with high-performance code.\n",
    "\n",
    "### 9. **Application Areas**:\n",
    "   - **Data Science**: Handling large datasets for statistical analysis and machine learning tasks.\n",
    "   - **Engineering and Scientific Computing**: Solving complex mathematical problems like partial differential equations or simulations that require heavy matrix operations.\n",
    "   - **Computer Graphics**: Representing images as 2D or 3D arrays and applying transformations like scaling, rotating, or filtering.\n",
    "\n",
    "### 10. **Additional Important Points**:\n",
    "   - **Random Numbers**: NumPy includes modules for generating random numbers, useful for simulations or initializing weights in machine learning models.\n",
    "   - **Fourier Transforms**: Used for signal processing, NumPy supports fast Fourier transforms (FFT) for frequency analysis.\n",
    "   - **Linear Algebra**: Built-in functions for matrix multiplication, eigenvalues, and solving linear systems of equations.\n",
    "\n",
    "In summary, NumPy is essential for efficient numerical and matrix-based operations in Python, providing performance close to low-level languages like C while maintaining the simplicity and ease of Python."
   ]
  },
  {
   "cell_type": "markdown",
   "id": "6971c991-7078-4a19-97e8-6cf11f5d644c",
   "metadata": {},
   "source": [
    "- Size of NumPy array is fixed at creation, unlike Python lists which can grow dynamically.\n",
    "- Changing the size of an ndarray will create a new array and delete the original one.\n",
    "- Elements in a NumPy array are required to be of the same data type and have the same size in memory.\n",
    "- NumPy facilitates advanced mathematical operations, which are executed more efficiently with less code compared to Python’s in-built sequences."
   ]
  },
  {
   "cell_type": "code",
   "execution_count": 3,
   "id": "a2b23bb0-a35e-4894-bb5a-7160519cb1fc",
   "metadata": {},
   "outputs": [],
   "source": [
    "import numpy as np"
   ]
  },
  {
   "cell_type": "code",
   "execution_count": 5,
   "id": "663365f6-e543-42e4-92c5-85561a543373",
   "metadata": {},
   "outputs": [
    {
     "data": {
      "text/plain": [
       "array([1, 2, 3])"
      ]
     },
     "execution_count": 5,
     "metadata": {},
     "output_type": "execute_result"
    }
   ],
   "source": [
    "a = np.array([1, 2, 3])\n",
    "a"
   ]
  },
  {
   "cell_type": "code",
   "execution_count": 6,
   "id": "8aac8aba-baab-4d64-be32-9e405b3f5f1b",
   "metadata": {},
   "outputs": [
    {
     "name": "stdout",
     "output_type": "stream",
     "text": [
      "[1 2 3]\n"
     ]
    }
   ],
   "source": [
    "print(a)"
   ]
  },
  {
   "cell_type": "code",
   "execution_count": 7,
   "id": "ce3d2103-4364-4a6b-8909-eb59fabad84e",
   "metadata": {},
   "outputs": [
    {
     "data": {
      "text/plain": [
       "numpy.ndarray"
      ]
     },
     "execution_count": 7,
     "metadata": {},
     "output_type": "execute_result"
    }
   ],
   "source": [
    "type(a)"
   ]
  },
  {
   "cell_type": "code",
   "execution_count": 8,
   "id": "f3618c81-8081-4b0e-b9ce-0646eeb2a448",
   "metadata": {},
   "outputs": [
    {
     "name": "stdout",
     "output_type": "stream",
     "text": [
      "<class 'numpy.ndarray'>\n"
     ]
    }
   ],
   "source": [
    "print(type(a))"
   ]
  },
  {
   "cell_type": "code",
   "execution_count": 13,
   "id": "bb4cde85-3214-4329-824b-e6d484441893",
   "metadata": {},
   "outputs": [
    {
     "data": {
      "text/plain": [
       "array([[1, 2, 3],\n",
       "       [4, 5, 6]])"
      ]
     },
     "execution_count": 13,
     "metadata": {},
     "output_type": "execute_result"
    }
   ],
   "source": [
    "b = np.array([[1,2,3], [4,5,6]]) # 2D NUMPY ARRAY\n",
    "b "
   ]
  },
  {
   "cell_type": "code",
   "execution_count": 14,
   "id": "1d2fdf4a-e7de-4ba8-98f8-8dd955282ff0",
   "metadata": {},
   "outputs": [
    {
     "name": "stdout",
     "output_type": "stream",
     "text": [
      "[[1 2 3]\n",
      " [4 5 6]]\n"
     ]
    }
   ],
   "source": [
    "print(b)"
   ]
  },
  {
   "cell_type": "code",
   "execution_count": 15,
   "id": "1d7f12c2-fdca-4ca8-992e-efdab30a656f",
   "metadata": {},
   "outputs": [
    {
     "data": {
      "text/plain": [
       "numpy.ndarray"
      ]
     },
     "execution_count": 15,
     "metadata": {},
     "output_type": "execute_result"
    }
   ],
   "source": [
    "type(b)"
   ]
  },
  {
   "cell_type": "code",
   "execution_count": 16,
   "id": "5d1ad230-ae7d-493d-9a8a-956de0ed1902",
   "metadata": {},
   "outputs": [
    {
     "name": "stdout",
     "output_type": "stream",
     "text": [
      "<class 'numpy.ndarray'>\n"
     ]
    }
   ],
   "source": [
    "print(type(b))"
   ]
  },
  {
   "cell_type": "code",
   "execution_count": 20,
   "id": "271fe767-389c-4a66-be5d-3d27e83267ef",
   "metadata": {},
   "outputs": [
    {
     "data": {
      "text/plain": [
       "array([[[1, 2],\n",
       "        [3, 4]],\n",
       "\n",
       "       [[5, 6],\n",
       "        [7, 8]]])"
      ]
     },
     "execution_count": 20,
     "metadata": {},
     "output_type": "execute_result"
    }
   ],
   "source": [
    "c = np.array([[[1,2],[3,4]], [[5,6],[7,8]]]) #3D VECTOR ALSO CALLED TENSOR\n",
    "c"
   ]
  },
  {
   "cell_type": "code",
   "execution_count": 24,
   "id": "332e133f-8b41-4ddf-8fd7-757b7603dec9",
   "metadata": {},
   "outputs": [
    {
     "data": {
      "text/plain": [
       "array([1., 2., 3.])"
      ]
     },
     "execution_count": 24,
     "metadata": {},
     "output_type": "execute_result"
    }
   ],
   "source": [
    "# WE CAN ALSO CREATE NUMPY ARRAY OF SAME DATATYPE CAN BE OF ANYHTING (OBJECT)\n",
    "arr = np.array([1,2,3], dtype=float)\n",
    "arr"
   ]
  },
  {
   "cell_type": "code",
   "execution_count": 25,
   "id": "58411384-dea8-4e60-9136-316cbb747a66",
   "metadata": {},
   "outputs": [
    {
     "data": {
      "text/plain": [
       "array([1.+0.j, 2.+0.j, 3.+0.j])"
      ]
     },
     "execution_count": 25,
     "metadata": {},
     "output_type": "execute_result"
    }
   ],
   "source": [
    "arr = np.array([1,2,3], dtype=complex)\n",
    "arr"
   ]
  },
  {
   "cell_type": "code",
   "execution_count": 26,
   "id": "b0ca3216-a564-4e67-8f1f-7eca3bbd2227",
   "metadata": {},
   "outputs": [
    {
     "data": {
      "text/plain": [
       "array([ 1,  2,  3,  4,  5,  6,  7,  8,  9, 10])"
      ]
     },
     "execution_count": 26,
     "metadata": {},
     "output_type": "execute_result"
    }
   ],
   "source": [
    "# NP.ARANGE\n",
    "arr2 = np.arange(1, 11)\n",
    "arr2"
   ]
  },
  {
   "cell_type": "code",
   "execution_count": 27,
   "id": "be25d06e-11eb-4a4c-b0ee-8a9547f554cc",
   "metadata": {},
   "outputs": [
    {
     "data": {
      "text/plain": [
       "array([1, 3, 5, 7, 9])"
      ]
     },
     "execution_count": 27,
     "metadata": {},
     "output_type": "execute_result"
    }
   ],
   "source": [
    "arr3 = np.arange(1, 11, 2)\n",
    "arr3"
   ]
  },
  {
   "cell_type": "code",
   "execution_count": 28,
   "id": "a0b7fffe-f9aa-4075-94c0-d936b51f0be7",
   "metadata": {},
   "outputs": [
    {
     "data": {
      "text/plain": [
       "array([[ 1,  2],\n",
       "       [ 3,  4],\n",
       "       [ 5,  6],\n",
       "       [ 7,  8],\n",
       "       [ 9, 10]])"
      ]
     },
     "execution_count": 28,
     "metadata": {},
     "output_type": "execute_result"
    }
   ],
   "source": [
    "arr4 = np.arange(1, 11).reshape(5,2)\n",
    "arr4"
   ]
  },
  {
   "cell_type": "code",
   "execution_count": 29,
   "id": "d6c8853c-3f51-41c4-aebe-5e31da80cf12",
   "metadata": {},
   "outputs": [
    {
     "data": {
      "text/plain": [
       "array([[ 1,  2,  3,  4,  5],\n",
       "       [ 6,  7,  8,  9, 10]])"
      ]
     },
     "execution_count": 29,
     "metadata": {},
     "output_type": "execute_result"
    }
   ],
   "source": [
    "arr4 = np.arange(1, 11).reshape(2,5)\n",
    "arr4"
   ]
  },
  {
   "cell_type": "code",
   "execution_count": 30,
   "id": "72e53eb8-93f9-4ba2-9549-48d5f1ea3900",
   "metadata": {},
   "outputs": [
    {
     "ename": "ValueError",
     "evalue": "cannot reshape array of size 10 into shape (3,3)",
     "output_type": "error",
     "traceback": [
      "\u001b[1;31m---------------------------------------------------------------------------\u001b[0m",
      "\u001b[1;31mValueError\u001b[0m                                Traceback (most recent call last)",
      "Cell \u001b[1;32mIn[30], line 1\u001b[0m\n\u001b[1;32m----> 1\u001b[0m arr4 \u001b[38;5;241m=\u001b[39m np\u001b[38;5;241m.\u001b[39marange(\u001b[38;5;241m1\u001b[39m, \u001b[38;5;241m11\u001b[39m)\u001b[38;5;241m.\u001b[39mreshape(\u001b[38;5;241m3\u001b[39m, \u001b[38;5;241m3\u001b[39m)\n\u001b[0;32m      2\u001b[0m arr4\n",
      "\u001b[1;31mValueError\u001b[0m: cannot reshape array of size 10 into shape (3,3)"
     ]
    }
   ],
   "source": [
    "arr4 = np.arange(1, 11).reshape(3, 3)\n",
    "arr4"
   ]
  },
  {
   "cell_type": "code",
   "execution_count": 31,
   "id": "3e6a2d83-c9b8-46ed-9923-a0dc60b003a8",
   "metadata": {},
   "outputs": [
    {
     "ename": "ValueError",
     "evalue": "cannot reshape array of size 10 into shape (3,4)",
     "output_type": "error",
     "traceback": [
      "\u001b[1;31m---------------------------------------------------------------------------\u001b[0m",
      "\u001b[1;31mValueError\u001b[0m                                Traceback (most recent call last)",
      "Cell \u001b[1;32mIn[31], line 1\u001b[0m\n\u001b[1;32m----> 1\u001b[0m arr4 \u001b[38;5;241m=\u001b[39m np\u001b[38;5;241m.\u001b[39marange(\u001b[38;5;241m1\u001b[39m, \u001b[38;5;241m11\u001b[39m)\u001b[38;5;241m.\u001b[39mreshape(\u001b[38;5;241m3\u001b[39m, \u001b[38;5;241m4\u001b[39m)\n\u001b[0;32m      2\u001b[0m arr4\n",
      "\u001b[1;31mValueError\u001b[0m: cannot reshape array of size 10 into shape (3,4)"
     ]
    }
   ],
   "source": [
    "arr4 = np.arange(1, 11).reshape(3, 4)\n",
    "arr4"
   ]
  },
  {
   "cell_type": "code",
   "execution_count": 32,
   "id": "0eec6e20-86a4-4211-8774-f5b3bf8e0ac9",
   "metadata": {},
   "outputs": [],
   "source": [
    "# FOR RESHAPING K ELEMENTS WE CAN ONLY DO .RESHAPE(M, N) OR .RESHAPE(N, M) WHERE *****(M*N = K)*****"
   ]
  },
  {
   "cell_type": "code",
   "execution_count": 33,
   "id": "412acd70-1a60-4580-a84b-cdff0a702408",
   "metadata": {},
   "outputs": [
    {
     "data": {
      "text/plain": [
       "array([[ 1,  2,  3,  4],\n",
       "       [ 5,  6,  7,  8],\n",
       "       [ 9, 10, 11, 12]])"
      ]
     },
     "execution_count": 33,
     "metadata": {},
     "output_type": "execute_result"
    }
   ],
   "source": [
    "np.arange(1, 13).reshape(3,4)"
   ]
  },
  {
   "cell_type": "code",
   "execution_count": 34,
   "id": "d9c62458-60bf-4deb-ba15-b22aca654eea",
   "metadata": {},
   "outputs": [
    {
     "data": {
      "text/plain": [
       "array([[ 1,  2],\n",
       "       [ 3,  4],\n",
       "       [ 5,  6],\n",
       "       [ 7,  8],\n",
       "       [ 9, 10],\n",
       "       [11, 12]])"
      ]
     },
     "execution_count": 34,
     "metadata": {},
     "output_type": "execute_result"
    }
   ],
   "source": [
    "np.arange(1, 13).reshape(6,2)"
   ]
  },
  {
   "cell_type": "code",
   "execution_count": 35,
   "id": "d7eb00c2-7783-4159-b401-1215343a87c1",
   "metadata": {},
   "outputs": [
    {
     "data": {
      "text/plain": [
       "array([[ 1],\n",
       "       [ 2],\n",
       "       [ 3],\n",
       "       [ 4],\n",
       "       [ 5],\n",
       "       [ 6],\n",
       "       [ 7],\n",
       "       [ 8],\n",
       "       [ 9],\n",
       "       [10],\n",
       "       [11],\n",
       "       [12]])"
      ]
     },
     "execution_count": 35,
     "metadata": {},
     "output_type": "execute_result"
    }
   ],
   "source": [
    "np.arange(1, 13).reshape(12, 1)"
   ]
  },
  {
   "cell_type": "code",
   "execution_count": 36,
   "id": "e9aa91ec-5425-4246-9907-4e82a5b5c25a",
   "metadata": {},
   "outputs": [
    {
     "data": {
      "text/plain": [
       "array([[ 1,  2,  3,  4,  5,  6,  7,  8,  9, 10, 11, 12]])"
      ]
     },
     "execution_count": 36,
     "metadata": {},
     "output_type": "execute_result"
    }
   ],
   "source": [
    "np.arange(1, 13).reshape(1, 12)"
   ]
  },
  {
   "cell_type": "code",
   "execution_count": 60,
   "id": "874294a4-c580-4083-bc0f-fb62af21e936",
   "metadata": {},
   "outputs": [
    {
     "data": {
      "text/plain": [
       "array([[[[ 1,  2],\n",
       "         [ 3,  4]],\n",
       "\n",
       "        [[ 5,  6],\n",
       "         [ 7,  8]]],\n",
       "\n",
       "\n",
       "       [[[ 9, 10],\n",
       "         [11, 12]],\n",
       "\n",
       "        [[13, 14],\n",
       "         [15, 16]]]])"
      ]
     },
     "execution_count": 60,
     "metadata": {},
     "output_type": "execute_result"
    }
   ],
   "source": [
    "np.arange(1, 17).reshape(2,2,2,2)"
   ]
  },
  {
   "cell_type": "code",
   "execution_count": 61,
   "id": "19a499b0-bd01-4540-bbf6-313e6e777e6b",
   "metadata": {},
   "outputs": [
    {
     "data": {
      "text/plain": [
       "array([[[[ 0,  1],\n",
       "         [ 2,  3]],\n",
       "\n",
       "        [[ 4,  5],\n",
       "         [ 6,  7]]],\n",
       "\n",
       "\n",
       "       [[[ 8,  9],\n",
       "         [10, 11]],\n",
       "\n",
       "        [[12, 13],\n",
       "         [14, 15]]]])"
      ]
     },
     "execution_count": 61,
     "metadata": {},
     "output_type": "execute_result"
    }
   ],
   "source": [
    "np.arange(16).reshape(2,2,2,2)"
   ]
  },
  {
   "cell_type": "code",
   "execution_count": 62,
   "id": "69ce509d-4543-4476-b50f-39c7ea42d3d7",
   "metadata": {},
   "outputs": [
    {
     "data": {
      "text/plain": [
       "array([[1., 1., 1., 1.],\n",
       "       [1., 1., 1., 1.],\n",
       "       [1., 1., 1., 1.]])"
      ]
     },
     "execution_count": 62,
     "metadata": {},
     "output_type": "execute_result"
    }
   ],
   "source": [
    "np.ones((3, 4))"
   ]
  },
  {
   "cell_type": "code",
   "execution_count": 63,
   "id": "38947a68-f3fb-45a2-9d73-9378bda5ece3",
   "metadata": {},
   "outputs": [
    {
     "data": {
      "text/plain": [
       "array([[1.],\n",
       "       [1.],\n",
       "       [1.],\n",
       "       [1.],\n",
       "       [1.]])"
      ]
     },
     "execution_count": 63,
     "metadata": {},
     "output_type": "execute_result"
    }
   ],
   "source": [
    "np.ones((5, 1))"
   ]
  },
  {
   "cell_type": "code",
   "execution_count": 64,
   "id": "caf5a87b-06d4-48ef-877b-1e162d1a8501",
   "metadata": {},
   "outputs": [
    {
     "data": {
      "text/plain": [
       "array([[0., 0., 0., 0., 0.],\n",
       "       [0., 0., 0., 0., 0.],\n",
       "       [0., 0., 0., 0., 0.],\n",
       "       [0., 0., 0., 0., 0.]])"
      ]
     },
     "execution_count": 64,
     "metadata": {},
     "output_type": "execute_result"
    }
   ],
   "source": [
    "np.zeros((4,5))"
   ]
  },
  {
   "cell_type": "code",
   "execution_count": 65,
   "id": "83d14dd1-0a7d-4d5a-a181-840a3dcb7f91",
   "metadata": {},
   "outputs": [
    {
     "data": {
      "text/plain": [
       "array([[0.47139972, 0.77293708, 0.29892982, 0.12513534],\n",
       "       [0.84605495, 0.64897033, 0.02690087, 0.09017074],\n",
       "       [0.47610825, 0.6644368 , 0.78757561, 0.88021961]])"
      ]
     },
     "execution_count": 65,
     "metadata": {},
     "output_type": "execute_result"
    }
   ],
   "source": [
    "np.random.random((3, 4)) # GENERATES RANDOM NUMBERS BETWEEN 0 AND 1"
   ]
  },
  {
   "cell_type": "code",
   "execution_count": 66,
   "id": "6070b4c8-feb3-4ba1-95bd-e400d10b8688",
   "metadata": {},
   "outputs": [
    {
     "data": {
      "text/plain": [
       "array([[28, 22, 47, 74],\n",
       "       [52, 58, 36, 57],\n",
       "       [69, 54, 58, 26]])"
      ]
     },
     "execution_count": 66,
     "metadata": {},
     "output_type": "execute_result"
    }
   ],
   "source": [
    "np.random.randint(20, 80, size=(3, 4))"
   ]
  },
  {
   "cell_type": "markdown",
   "id": "4dd1db5b-2789-46e9-ab07-5a21fd10158f",
   "metadata": {},
   "source": [
    "`np.linspace()` is a function in NumPy that generates **evenly spaced numbers** over a specified interval.\n",
    "\n",
    "### Syntax:\n",
    "```python\n",
    "np.linspace(start, stop, num=50, endpoint=True, retstep=False, dtype=None)\n",
    "```\n",
    "\n",
    "### Parameters:\n",
    "- **start**: The starting value of the sequence.\n",
    "- **stop**: The end value of the sequence.\n",
    "- **num**: The number of samples to generate (default is 50).\n",
    "- **endpoint**: If `True`, the stop value is included in the sequence (default is `True`).\n",
    "- **retstep**: If `True`, it returns the step size between values in addition to the array.\n",
    "- **dtype**: The data type of the output array (optional).\n",
    "\n",
    "### Example:\n",
    "```python\n",
    "np.linspace(0, 10, 5)\n",
    "```\n",
    "\n",
    "This will generate an array with 5 evenly spaced numbers between `0` and `10`:\n",
    "\n",
    "```\n",
    "array([ 0. ,  2.5,  5. ,  7.5, 10. ])\n",
    "```\n",
    "\n",
    "If `endpoint=False`, the stop value is excluded:\n",
    "\n",
    "```python\n",
    "np.linspace(0, 10, 5, endpoint=False)\n",
    "```\n",
    "\n",
    "This generates:\n",
    "\n",
    "```\n",
    "array([0., 2., 4., 6., 8.])\n",
    "```\n",
    "\n",
    "In summary, `np.linspace()` is useful for creating evenly spaced ranges of numbers, which is commonly used in plotting or mathematical computations."
   ]
  },
  {
   "cell_type": "code",
   "execution_count": 67,
   "id": "e9736532-8afc-40c8-ad05-4bc5f9bf3b58",
   "metadata": {},
   "outputs": [
    {
     "data": {
      "text/plain": [
       "array([ 0. ,  2.5,  5. ,  7.5, 10. ])"
      ]
     },
     "execution_count": 67,
     "metadata": {},
     "output_type": "execute_result"
    }
   ],
   "source": [
    "np.linspace(0, 10, 5)"
   ]
  },
  {
   "cell_type": "code",
   "execution_count": 68,
   "id": "0fea2b52-47d4-4a1a-84d2-86642da41c44",
   "metadata": {},
   "outputs": [
    {
     "data": {
      "text/plain": [
       "array([-10,  -8,  -6,  -4,  -2,   1,   3,   5,   7,  10])"
      ]
     },
     "execution_count": 68,
     "metadata": {},
     "output_type": "execute_result"
    }
   ],
   "source": [
    "np.linspace(-10, 10, 10, dtype=int)"
   ]
  },
  {
   "cell_type": "code",
   "execution_count": 69,
   "id": "8b706db2-8b7b-4c5e-a254-b43dabfe1ca5",
   "metadata": {},
   "outputs": [
    {
     "data": {
      "text/plain": [
       "array([[1., 0., 0.],\n",
       "       [0., 1., 0.],\n",
       "       [0., 0., 1.]])"
      ]
     },
     "execution_count": 69,
     "metadata": {},
     "output_type": "execute_result"
    }
   ],
   "source": [
    "np.identity(3)"
   ]
  },
  {
   "cell_type": "code",
   "execution_count": 70,
   "id": "9eea552c-cb2c-41ac-8ae1-2159263c31db",
   "metadata": {},
   "outputs": [
    {
     "name": "stdout",
     "output_type": "stream",
     "text": [
      "[[1. 0. 0. 0.]\n",
      " [0. 1. 0. 0.]\n",
      " [0. 0. 1. 0.]\n",
      " [0. 0. 0. 1.]]\n"
     ]
    }
   ],
   "source": [
    "idty = np.identity(4)\n",
    "print(idty)"
   ]
  },
  {
   "cell_type": "markdown",
   "id": "c6b90e09-2578-445c-bc86-a7f6cf4f47ec",
   "metadata": {},
   "source": [
    "**ARRAY ATTRIBUTES**"
   ]
  },
  {
   "cell_type": "code",
   "execution_count": 72,
   "id": "84623c93-39c5-4ffa-8c48-5f7b2d778d98",
   "metadata": {},
   "outputs": [
    {
     "name": "stdout",
     "output_type": "stream",
     "text": [
      "[0 1 2 3 4 5 6 7 8 9]\n",
      "[[ 0.  1.  2.  3.]\n",
      " [ 4.  5.  6.  7.]\n",
      " [ 8.  9. 10. 11.]]\n",
      "[[[0 1]\n",
      "  [2 3]]\n",
      "\n",
      " [[4 5]\n",
      "  [6 7]]]\n"
     ]
    }
   ],
   "source": [
    "a1 = np.arange(10)\n",
    "a2 = np.arange(12, dtype=float).reshape(3,4)\n",
    "a3 = np.arange(8).reshape(2,2,2)\n",
    "\n",
    "print(a1)\n",
    "print(a2)\n",
    "print(a3)"
   ]
  },
  {
   "cell_type": "code",
   "execution_count": 77,
   "id": "43a8ecda-7a5f-4a90-99ab-1a1dd538924a",
   "metadata": {},
   "outputs": [
    {
     "name": "stdout",
     "output_type": "stream",
     "text": [
      "1\n",
      "2\n",
      "3\n"
     ]
    }
   ],
   "source": [
    "#NDIM RETURN DIMENTION OF AN NUMPY ARRAY\n",
    "print(a1.ndim)\n",
    "print(a2.ndim)\n",
    "print(a3.ndim)"
   ]
  },
  {
   "cell_type": "code",
   "execution_count": 76,
   "id": "89b6fe94-c6a5-49f4-afc6-02412b8999c2",
   "metadata": {},
   "outputs": [
    {
     "name": "stdout",
     "output_type": "stream",
     "text": [
      "(10,)\n",
      "(3, 4)\n",
      "(2, 2, 2)\n"
     ]
    }
   ],
   "source": [
    "print(a1.shape)\n",
    "print(a2.shape)\n",
    "print(a3.shape)"
   ]
  },
  {
   "cell_type": "code",
   "execution_count": 78,
   "id": "f6d10d01-d109-439b-96ef-ac7b96e1da9a",
   "metadata": {},
   "outputs": [
    {
     "name": "stdout",
     "output_type": "stream",
     "text": [
      "10\n",
      "12\n",
      "8\n"
     ]
    }
   ],
   "source": [
    "print(a1.size)\n",
    "print(a2.size)\n",
    "print(a3.size)"
   ]
  },
  {
   "cell_type": "code",
   "execution_count": 79,
   "id": "eaff3b48-953b-45f5-a236-06261daa6bf2",
   "metadata": {},
   "outputs": [
    {
     "name": "stdout",
     "output_type": "stream",
     "text": [
      "int32\n",
      "float64\n",
      "int32\n"
     ]
    }
   ],
   "source": [
    "print(a1.dtype)\n",
    "print(a2.dtype)\n",
    "print(a3.dtype)"
   ]
  },
  {
   "cell_type": "code",
   "execution_count": 81,
   "id": "fcf3b694-70e0-455d-ba44-455ca186214c",
   "metadata": {},
   "outputs": [
    {
     "data": {
      "text/plain": [
       "array([[ 0,  1,  2,  3],\n",
       "       [ 4,  5,  6,  7],\n",
       "       [ 8,  9, 10, 11]])"
      ]
     },
     "execution_count": 81,
     "metadata": {},
     "output_type": "execute_result"
    }
   ],
   "source": [
    "a2.astype(np.int32)"
   ]
  },
  {
   "cell_type": "code",
   "execution_count": 82,
   "id": "9a2bc0d7-9790-46cc-bb8e-fbe62d00a857",
   "metadata": {},
   "outputs": [],
   "source": [
    "# scalar operations also possible in numpy arrays"
   ]
  },
  {
   "cell_type": "code",
   "execution_count": 83,
   "id": "1a192c76-400c-4900-9d0b-9804f4c37027",
   "metadata": {},
   "outputs": [
    {
     "name": "stdout",
     "output_type": "stream",
     "text": [
      "[ 0  2  4  6  8 10 12 14 16 18]\n"
     ]
    }
   ],
   "source": [
    "print(2*a1)"
   ]
  },
  {
   "cell_type": "code",
   "execution_count": 84,
   "id": "de772da2-927b-4652-af04-b0bcb1a7fa36",
   "metadata": {},
   "outputs": [
    {
     "name": "stdout",
     "output_type": "stream",
     "text": [
      "[ 0  1  4  9 16 25 36 49 64 81]\n"
     ]
    }
   ],
   "source": [
    "print(a1 ** 2)"
   ]
  },
  {
   "cell_type": "code",
   "execution_count": 85,
   "id": "e360541a-4ce7-4326-9641-1ec549c84f1a",
   "metadata": {},
   "outputs": [
    {
     "name": "stdout",
     "output_type": "stream",
     "text": [
      "[[False False False False]\n",
      " [False False  True  True]\n",
      " [ True  True  True  True]]\n"
     ]
    }
   ],
   "source": [
    "print(a2 > 5)"
   ]
  },
  {
   "cell_type": "code",
   "execution_count": 86,
   "id": "fb44848d-9ca4-4418-971c-b274ab6900ec",
   "metadata": {},
   "outputs": [
    {
     "name": "stdout",
     "output_type": "stream",
     "text": [
      "[5 7 9]\n"
     ]
    }
   ],
   "source": [
    "a1 = np.array([1, 2, 3])\n",
    "a2 = np.array([4, 5, 6])\n",
    "\n",
    "result = a1 + a2\n",
    "print(result)"
   ]
  },
  {
   "cell_type": "code",
   "execution_count": 87,
   "id": "bd7d71dc-e59c-4329-9695-d59fcab2534b",
   "metadata": {},
   "outputs": [
    {
     "name": "stdout",
     "output_type": "stream",
     "text": [
      "[ 4 10 18]\n"
     ]
    }
   ],
   "source": [
    "print(a1 * a2)"
   ]
  },
  {
   "cell_type": "code",
   "execution_count": 101,
   "id": "71657d03-f904-4c3b-81f3-b7179e1fe17a",
   "metadata": {},
   "outputs": [
    {
     "data": {
      "text/plain": [
       "array([[ 8, 18,  1],\n",
       "       [ 5, 14,  9]])"
      ]
     },
     "execution_count": 101,
     "metadata": {},
     "output_type": "execute_result"
    }
   ],
   "source": [
    "arr = np.random.randint(1, 20, size=(2, 3))\n",
    "arr"
   ]
  },
  {
   "cell_type": "code",
   "execution_count": 102,
   "id": "8cbc7fab-2ff7-4abb-9a7c-960025a9812b",
   "metadata": {},
   "outputs": [
    {
     "name": "stdout",
     "output_type": "stream",
     "text": [
      "18\n",
      "1\n",
      "55\n",
      "9.166666666666666\n",
      "90720\n"
     ]
    }
   ],
   "source": [
    "print(np.max(arr))\n",
    "print(np.min(arr))\n",
    "print(np.sum(arr))\n",
    "print(np.mean(arr))\n",
    "print(np.prod(arr))"
   ]
  },
  {
   "cell_type": "code",
   "execution_count": 105,
   "id": "6508c3e1-75c0-4c7d-984c-afb469e0560d",
   "metadata": {},
   "outputs": [
    {
     "name": "stdout",
     "output_type": "stream",
     "text": [
      "[ 8 18  9]\n"
     ]
    }
   ],
   "source": [
    "print(np.max(arr, axis = 0)) # IT WILL PRINT MINIMUM IN EACH COLUMN"
   ]
  },
  {
   "cell_type": "code",
   "execution_count": 106,
   "id": "d653da63-af44-42e6-9255-55b0f86ed236",
   "metadata": {},
   "outputs": [
    {
     "name": "stdout",
     "output_type": "stream",
     "text": [
      "[18 14]\n"
     ]
    }
   ],
   "source": [
    "print(np.max(arr, axis = 1)) # IT WILL PRINT MINIMUM IN EACH ROW"
   ]
  },
  {
   "cell_type": "code",
   "execution_count": 107,
   "id": "6ccce589-dd32-455f-b7cd-87960aa1d751",
   "metadata": {},
   "outputs": [],
   "source": [
    "# O->COLUMN ANS 1->ROW"
   ]
  },
  {
   "cell_type": "code",
   "execution_count": 108,
   "id": "8601c13f-1dc6-4ac2-b91a-de0cacdf48ff",
   "metadata": {},
   "outputs": [
    {
     "name": "stdout",
     "output_type": "stream",
     "text": [
      "[9.         9.33333333]\n"
     ]
    }
   ],
   "source": [
    "print(np.mean(arr, axis = 1)) # IT WILL PRINT Mean IN EACH ROW"
   ]
  },
  {
   "cell_type": "code",
   "execution_count": 109,
   "id": "69f5cd2c-8d75-4f98-939e-67c3c0ff3628",
   "metadata": {},
   "outputs": [
    {
     "name": "stdout",
     "output_type": "stream",
     "text": [
      "[48.66666667 13.55555556]\n"
     ]
    }
   ],
   "source": [
    "print(np.var(arr, axis = 1)) # IT WILL PRINT Variance IN EACH ROW"
   ]
  },
  {
   "cell_type": "code",
   "execution_count": 110,
   "id": "bfc56771-88c3-42b7-b86d-be7cf70c0f59",
   "metadata": {},
   "outputs": [
    {
     "name": "stdout",
     "output_type": "stream",
     "text": [
      "[[ 0  1  2  3]\n",
      " [ 4  5  6  7]\n",
      " [ 8  9 10 11]]\n",
      "[[ 0  1  2]\n",
      " [ 3  4  5]\n",
      " [ 6  7  8]\n",
      " [ 9 10 11]]\n"
     ]
    }
   ],
   "source": [
    "a1 = np.arange(12).reshape(3, 4)\n",
    "a2 = np.arange(12).reshape(4, 3)\n",
    "print(a1)\n",
    "print(a2)"
   ]
  },
  {
   "cell_type": "code",
   "execution_count": 113,
   "id": "e8725e9f-5f95-45ff-8de1-4e4d408ba614",
   "metadata": {},
   "outputs": [
    {
     "name": "stdout",
     "output_type": "stream",
     "text": [
      "[[ 42  48  54]\n",
      " [114 136 158]\n",
      " [186 224 262]]\n"
     ]
    }
   ],
   "source": [
    "a3 = np.dot(a1, a2) # (3, 4) X (4, 3) GIVES (3, 3)\n",
    "print(a3)"
   ]
  },
  {
   "cell_type": "code",
   "execution_count": 126,
   "id": "66e1c433-c754-45f3-8058-e0c05af6530e",
   "metadata": {},
   "outputs": [
    {
     "name": "stdout",
     "output_type": "stream",
     "text": [
      "[[ 42  48  54]\n",
      " [114 136 158]\n",
      " [186 224 262]]\n"
     ]
    }
   ],
   "source": [
    "a3 = np.matmul(a1, a2) # (3, 4) X (4, 3) GIVES (3, 3)\n",
    "print(a3)"
   ]
  },
  {
   "cell_type": "code",
   "execution_count": 129,
   "id": "069ae7ff-fb30-4379-9fac-5dbfd103d8dd",
   "metadata": {},
   "outputs": [
    {
     "name": "stdout",
     "output_type": "stream",
     "text": [
      "[[19 22]\n",
      " [43 50]]\n"
     ]
    }
   ],
   "source": [
    "# Dot product of two vectors\n",
    "a = np.array([1, 2])\n",
    "b = np.array([3, 4])\n",
    "result = np.dot(a, b)  # Returns 1*3 + 2*4 = 11\n",
    "\n",
    "# Matrix multiplication of two matrices\n",
    "c = np.array([[1, 2], [3, 4]])\n",
    "d = np.array([[5, 6], [7, 8]])\n",
    "# |1, 2|   |5, 6|\n",
    "# |3, 4|   |7, 8|\n",
    "result = np.dot(c, d)  # Same as np.matmul for 2D arrays\n",
    "print(result)"
   ]
  },
  {
   "cell_type": "code",
   "execution_count": 130,
   "id": "f05950f4-531c-402b-bcde-fc5c8ef052b1",
   "metadata": {},
   "outputs": [
    {
     "name": "stdout",
     "output_type": "stream",
     "text": [
      "[[31.73851796 40.8125083  39.83334035]\n",
      " [22.63839216 96.07951918 15.43588633]]\n"
     ]
    }
   ],
   "source": [
    "nmp = np.random.random((2, 3))*100\n",
    "print(nmp)"
   ]
  },
  {
   "cell_type": "code",
   "execution_count": 131,
   "id": "d8a03eaf-c09a-4e80-bbda-1da8616d5ef7",
   "metadata": {},
   "outputs": [
    {
     "data": {
      "text/plain": [
       "array([[32., 41., 40.],\n",
       "       [23., 96., 15.]])"
      ]
     },
     "execution_count": 131,
     "metadata": {},
     "output_type": "execute_result"
    }
   ],
   "source": [
    "np.round(nmp)"
   ]
  },
  {
   "cell_type": "code",
   "execution_count": 132,
   "id": "99653c22-5000-47d5-9e81-cc2e90afc0ac",
   "metadata": {},
   "outputs": [
    {
     "data": {
      "text/plain": [
       "array([[31., 40., 39.],\n",
       "       [22., 96., 15.]])"
      ]
     },
     "execution_count": 132,
     "metadata": {},
     "output_type": "execute_result"
    }
   ],
   "source": [
    "np.floor(nmp)"
   ]
  },
  {
   "cell_type": "code",
   "execution_count": 133,
   "id": "00e55dfa-bf66-462d-9a27-332b65929b58",
   "metadata": {},
   "outputs": [
    {
     "data": {
      "text/plain": [
       "array([[32., 41., 40.],\n",
       "       [23., 97., 16.]])"
      ]
     },
     "execution_count": 133,
     "metadata": {},
     "output_type": "execute_result"
    }
   ],
   "source": [
    "np.ceil(nmp)"
   ]
  },
  {
   "cell_type": "code",
   "execution_count": null,
   "id": "2bc9234b-ee93-4b12-bc5e-9f6db701cc1d",
   "metadata": {},
   "outputs": [],
   "source": []
  },
  {
   "cell_type": "code",
   "execution_count": 135,
   "id": "51df4384-a96f-468f-b2ee-714952297d7e",
   "metadata": {},
   "outputs": [
    {
     "name": "stdout",
     "output_type": "stream",
     "text": [
      "[0 1 2 3 4 5 6 7 8 9]\n",
      "[[ 0  1  2  3]\n",
      " [ 4  5  6  7]\n",
      " [ 8  9 10 11]]\n"
     ]
    }
   ],
   "source": [
    "a1 = np.arange(10)\n",
    "a2 = np.arange(12).reshape(3,4)\n",
    "print(a1)\n",
    "print(a2)"
   ]
  },
  {
   "cell_type": "code",
   "execution_count": 137,
   "id": "7b602b2a-dfc5-4559-afa9-a2ca9465c94b",
   "metadata": {},
   "outputs": [
    {
     "name": "stdout",
     "output_type": "stream",
     "text": [
      "4\n",
      "[2 3 4 5 6 7 8]\n",
      "[2 3 4 5 6 7 8 9]\n",
      "[0 1 2 3]\n",
      "9\n",
      "[2 4 6 8]\n"
     ]
    }
   ],
   "source": [
    "print(a1[4])\n",
    "print(a1[2:9])\n",
    "print(a1[2:])\n",
    "print(a1[:4])\n",
    "print(a1[-1])\n",
    "print(a1[2:9:2])"
   ]
  },
  {
   "cell_type": "code",
   "execution_count": 142,
   "id": "1517d358-f748-4598-b567-e0b3c067d041",
   "metadata": {},
   "outputs": [
    {
     "name": "stdout",
     "output_type": "stream",
     "text": [
      "11\n"
     ]
    }
   ],
   "source": [
    "print(a2[2,3]) # 0 based indexing for matrices"
   ]
  },
  {
   "cell_type": "code",
   "execution_count": 144,
   "id": "02eb2efa-800e-4435-8b88-fb318e89474f",
   "metadata": {},
   "outputs": [
    {
     "name": "stdout",
     "output_type": "stream",
     "text": [
      "[[[0 1]\n",
      "  [2 3]]\n",
      "\n",
      " [[4 5]\n",
      "  [6 7]]]\n"
     ]
    }
   ],
   "source": [
    "a3 = np.arange(8).reshape(2,2,2)\n",
    "print(a3)"
   ]
  },
  {
   "cell_type": "code",
   "execution_count": 145,
   "id": "5d338beb-07a4-435e-8f5f-ca41caa76bba",
   "metadata": {},
   "outputs": [
    {
     "name": "stdout",
     "output_type": "stream",
     "text": [
      "3\n",
      "4\n",
      "6\n"
     ]
    }
   ],
   "source": [
    "print(a3[0, 1, 1])\n",
    "print(a3[1, 0, 0])\n",
    "print(a3[1, 1, 0])"
   ]
  },
  {
   "cell_type": "code",
   "execution_count": 146,
   "id": "98671670-edb8-48d3-8492-08ff184f4047",
   "metadata": {},
   "outputs": [],
   "source": [
    "# SLICING IN 2D"
   ]
  },
  {
   "cell_type": "code",
   "execution_count": 147,
   "id": "d8ccab57-954b-41f8-8870-2b07332c76a1",
   "metadata": {},
   "outputs": [
    {
     "name": "stdout",
     "output_type": "stream",
     "text": [
      "[[ 0  1  2  3]\n",
      " [ 4  5  6  7]\n",
      " [ 8  9 10 11]]\n"
     ]
    }
   ],
   "source": [
    "a2 = np.arange(12).reshape(3,4)\n",
    "print(a2)"
   ]
  },
  {
   "cell_type": "code",
   "execution_count": 148,
   "id": "5f58413d-ba4b-42e6-8e5f-b56d3b8072a9",
   "metadata": {},
   "outputs": [
    {
     "name": "stdout",
     "output_type": "stream",
     "text": [
      "[0 1 2 3]\n"
     ]
    }
   ],
   "source": [
    "print(a2[0, :])"
   ]
  },
  {
   "cell_type": "code",
   "execution_count": 149,
   "id": "9189178e-716b-43c2-ac72-717d20ce243f",
   "metadata": {},
   "outputs": [
    {
     "name": "stdout",
     "output_type": "stream",
     "text": [
      "[ 8  9 10 11]\n"
     ]
    }
   ],
   "source": [
    "print(a2[2, :])"
   ]
  },
  {
   "cell_type": "code",
   "execution_count": 150,
   "id": "d6f28a4b-bc69-4be6-9c7f-4e2b086428fd",
   "metadata": {},
   "outputs": [
    {
     "name": "stdout",
     "output_type": "stream",
     "text": [
      "[[ 4  5  6  7]\n",
      " [ 8  9 10 11]]\n"
     ]
    }
   ],
   "source": [
    "print(a2[1:3, :])"
   ]
  },
  {
   "cell_type": "code",
   "execution_count": 151,
   "id": "538add34-cfe5-4d3d-b69d-0c83c3a2fdd1",
   "metadata": {},
   "outputs": [
    {
     "name": "stdout",
     "output_type": "stream",
     "text": [
      "[[ 0  1  2  3]\n",
      " [ 4  5  6  7]\n",
      " [ 8  9 10 11]]\n"
     ]
    }
   ],
   "source": [
    "print(a2[:, :])"
   ]
  },
  {
   "cell_type": "code",
   "execution_count": 153,
   "id": "8f0744d8-e49f-4e0f-94d7-1fcc918e08a8",
   "metadata": {},
   "outputs": [
    {
     "name": "stdout",
     "output_type": "stream",
     "text": [
      "[[ 1  2  3]\n",
      " [ 5  6  7]\n",
      " [ 9 10 11]]\n"
     ]
    }
   ],
   "source": [
    "print(a2[:, 1:])"
   ]
  },
  {
   "cell_type": "code",
   "execution_count": 154,
   "id": "279fdade-7fd3-4cf6-a74f-4e3a8f210f4c",
   "metadata": {},
   "outputs": [
    {
     "name": "stdout",
     "output_type": "stream",
     "text": [
      "[ 2  6 10]\n"
     ]
    }
   ],
   "source": [
    "print(a2[:, 2])"
   ]
  },
  {
   "cell_type": "code",
   "execution_count": 161,
   "id": "400a2b51-2a0b-42c9-9384-8df6e9b7de50",
   "metadata": {},
   "outputs": [
    {
     "name": "stdout",
     "output_type": "stream",
     "text": [
      "[[ 0  3]\n",
      " [ 8 11]]\n"
     ]
    }
   ],
   "source": [
    "print(a2[ ::2, ::3]) # :: IS USED TO TAKE JUMPS STARING FROM 0 ALSO JUMP JUST LIKE SKIPING INCLUDING 0"
   ]
  },
  {
   "cell_type": "code",
   "execution_count": 167,
   "id": "52db209a-01bc-410b-a7e4-309dca543805",
   "metadata": {},
   "outputs": [
    {
     "name": "stdout",
     "output_type": "stream",
     "text": [
      "[[ 1  3]\n",
      " [ 9 11]]\n"
     ]
    }
   ],
   "source": [
    "print(a2[ ::2, 1:4:2]) # FROM ROWS SKIOPING WITH 2 DIST(ALTERNATE) INCLUDING 0 SKIP AND IN COLUMNS STARING FROM 1 TO 4TH(EXCLUDING IDX) WITH 2 JUMP"
   ]
  },
  {
   "cell_type": "code",
   "execution_count": 168,
   "id": "f95ede78-3ec6-4c58-afc4-7a636ec54a6b",
   "metadata": {},
   "outputs": [
    {
     "name": "stdout",
     "output_type": "stream",
     "text": [
      "[[[ 0  1  2]\n",
      "  [ 3  4  5]\n",
      "  [ 6  7  8]]\n",
      "\n",
      " [[ 9 10 11]\n",
      "  [12 13 14]\n",
      "  [15 16 17]]\n",
      "\n",
      " [[18 19 20]\n",
      "  [21 22 23]\n",
      "  [24 25 26]]]\n"
     ]
    }
   ],
   "source": [
    "a3 = np.arange(27).reshape(3,3,3)\n",
    "print(a3)"
   ]
  },
  {
   "cell_type": "code",
   "execution_count": 169,
   "id": "3051e7c9-a6d1-4506-a064-dea8aa4080c2",
   "metadata": {},
   "outputs": [
    {
     "name": "stdout",
     "output_type": "stream",
     "text": [
      "11\n",
      "[ 3 12 21]\n",
      "[[18 19 20]\n",
      " [21 22 23]\n",
      " [24 25 26]]\n",
      "[[[13 14]\n",
      "  [16 17]]\n",
      "\n",
      " [[22 23]\n",
      "  [25 26]]]\n"
     ]
    }
   ],
   "source": [
    "print(a3[1,0,2])\n",
    "print(a3[:,1,0])\n",
    "print(a3[2,:,:])\n",
    "print(a3[1:,1:,1:])"
   ]
  },
  {
   "cell_type": "code",
   "execution_count": 170,
   "id": "4bbce1d8-1a4b-45f8-a190-f53849e07e24",
   "metadata": {},
   "outputs": [
    {
     "name": "stdout",
     "output_type": "stream",
     "text": [
      "[[ 3  4  5]\n",
      " [12 13 14]\n",
      " [21 22 23]]\n"
     ]
    }
   ],
   "source": [
    "print(a3[:,1,:])"
   ]
  },
  {
   "cell_type": "markdown",
   "id": "2b167477-c8dc-46f6-a0fc-e50c996dc237",
   "metadata": {},
   "source": [
    "**ITERATING ON NUMPY ARRAY**"
   ]
  },
  {
   "cell_type": "code",
   "execution_count": 172,
   "id": "0eaf1b71-ed18-426b-b6d3-a6bf811138dc",
   "metadata": {},
   "outputs": [
    {
     "data": {
      "text/plain": [
       "array([ 0,  1,  2,  3,  4,  5,  6,  7,  8,  9, 10, 11])"
      ]
     },
     "execution_count": 172,
     "metadata": {},
     "output_type": "execute_result"
    }
   ],
   "source": [
    "a1 = np.arange(12)\n",
    "a1"
   ]
  },
  {
   "cell_type": "code",
   "execution_count": 174,
   "id": "3bfffa6e-3b71-448c-a616-9e23b0f90adf",
   "metadata": {},
   "outputs": [
    {
     "name": "stdout",
     "output_type": "stream",
     "text": [
      "0\n",
      "1\n",
      "2\n",
      "3\n",
      "4\n",
      "5\n",
      "6\n",
      "7\n",
      "8\n",
      "9\n",
      "10\n",
      "11\n"
     ]
    }
   ],
   "source": [
    "for i in a1:\n",
    "    print(i)"
   ]
  },
  {
   "cell_type": "code",
   "execution_count": 175,
   "id": "8d05fcf9-4340-4d49-927e-55c4ce2f14ea",
   "metadata": {},
   "outputs": [
    {
     "name": "stdout",
     "output_type": "stream",
     "text": [
      "1\n",
      "1\n",
      "3\n",
      "3\n",
      "5\n",
      "5\n",
      "7\n",
      "7\n",
      "9\n",
      "9\n",
      "11\n",
      "11\n"
     ]
    }
   ],
   "source": [
    "for i in a1:\n",
    "    if i%2:\n",
    "        print(i)\n",
    "    else:\n",
    "        print(i+1)"
   ]
  },
  {
   "cell_type": "code",
   "execution_count": 177,
   "id": "938631f4-986a-4866-bbd7-9268e4b39cf9",
   "metadata": {},
   "outputs": [
    {
     "data": {
      "text/plain": [
       "array([[ 0,  1,  2,  3],\n",
       "       [ 4,  5,  6,  7],\n",
       "       [ 8,  9, 10, 11]])"
      ]
     },
     "execution_count": 177,
     "metadata": {},
     "output_type": "execute_result"
    }
   ],
   "source": [
    "a2 = np.arange(12).reshape(3,4)\n",
    "a2"
   ]
  },
  {
   "cell_type": "code",
   "execution_count": 178,
   "id": "96dc9ed4-d897-4d7c-98fd-d454fe749943",
   "metadata": {},
   "outputs": [
    {
     "name": "stdout",
     "output_type": "stream",
     "text": [
      "[0 1 2 3]\n",
      "[4 5 6 7]\n",
      "[ 8  9 10 11]\n"
     ]
    }
   ],
   "source": [
    "for i in a2:\n",
    "    print(i)"
   ]
  },
  {
   "cell_type": "code",
   "execution_count": 181,
   "id": "4f5f6368-55af-4c1f-a4f9-be90cc8b7fd3",
   "metadata": {},
   "outputs": [
    {
     "name": "stdout",
     "output_type": "stream",
     "text": [
      "0\n",
      "1\n",
      "2\n",
      "3\n",
      "---\n",
      "4\n",
      "5\n",
      "6\n",
      "7\n",
      "---\n",
      "8\n",
      "9\n",
      "10\n",
      "11\n",
      "---\n"
     ]
    }
   ],
   "source": [
    "for i in a2:\n",
    "    for j in i:\n",
    "        print(j)\n",
    "    print(\"---\")"
   ]
  },
  {
   "cell_type": "code",
   "execution_count": 183,
   "id": "ee2da533-cee1-46c5-b39e-5bc0f1ae51f3",
   "metadata": {},
   "outputs": [
    {
     "name": "stdout",
     "output_type": "stream",
     "text": [
      "0\n",
      "1\n",
      "2\n",
      "3\n",
      "4\n",
      "5\n",
      "6\n",
      "7\n",
      "8\n",
      "9\n",
      "10\n",
      "11\n"
     ]
    }
   ],
   "source": [
    "for i in np.nditer(a2):\n",
    "    print(i)"
   ]
  },
  {
   "cell_type": "code",
   "execution_count": 184,
   "id": "55a5418d-ebd0-4a78-b8d1-9d72e435e98c",
   "metadata": {},
   "outputs": [
    {
     "name": "stdout",
     "output_type": "stream",
     "text": [
      "[[[ 0  1  2]\n",
      "  [ 3  4  5]\n",
      "  [ 6  7  8]]\n",
      "\n",
      " [[ 9 10 11]\n",
      "  [12 13 14]\n",
      "  [15 16 17]]\n",
      "\n",
      " [[18 19 20]\n",
      "  [21 22 23]\n",
      "  [24 25 26]]]\n"
     ]
    }
   ],
   "source": [
    "a3 = np.arange(27).reshape(3,3,3)\n",
    "print(a3)"
   ]
  },
  {
   "cell_type": "code",
   "execution_count": 186,
   "id": "4f7a39a3-7f2e-4708-8d55-1c4527ff6837",
   "metadata": {},
   "outputs": [
    {
     "name": "stdout",
     "output_type": "stream",
     "text": [
      "0\n",
      "1\n",
      "2\n",
      "3\n",
      "4\n",
      "5\n",
      "6\n",
      "7\n",
      "8\n",
      "9\n",
      "10\n",
      "11\n",
      "12\n",
      "13\n",
      "14\n",
      "15\n",
      "16\n",
      "17\n",
      "18\n",
      "19\n",
      "20\n",
      "21\n",
      "22\n",
      "23\n",
      "24\n",
      "25\n",
      "26\n"
     ]
    }
   ],
   "source": [
    "# \"nditer\" prints indvisual items from array of any dimension\n",
    "for i in np.nditer(a3):\n",
    "    print(i)"
   ]
  },
  {
   "cell_type": "markdown",
   "id": "0f2f1760-6a50-4342-981f-b5de91a66b5e",
   "metadata": {},
   "source": [
    "**Reshaping**\n",
    "    -1.*reshape*\n",
    "    -2.*transpose*\n",
    "    -3.*ravel*"
   ]
  },
  {
   "cell_type": "code",
   "execution_count": 188,
   "id": "27fc0e86-0dd2-4ac9-bb8d-b4a1d5c9733a",
   "metadata": {},
   "outputs": [
    {
     "data": {
      "text/plain": [
       "array([[ 0,  1,  2,  3],\n",
       "       [ 4,  5,  6,  7],\n",
       "       [ 8,  9, 10, 11]])"
      ]
     },
     "execution_count": 188,
     "metadata": {},
     "output_type": "execute_result"
    }
   ],
   "source": [
    "a2 = np.arange(12).reshape(3,4)\n",
    "a2"
   ]
  },
  {
   "cell_type": "code",
   "execution_count": 189,
   "id": "4320c6af-3346-454f-871d-6db93e8ebd46",
   "metadata": {},
   "outputs": [
    {
     "data": {
      "text/plain": [
       "array([[ 0,  4,  8],\n",
       "       [ 1,  5,  9],\n",
       "       [ 2,  6, 10],\n",
       "       [ 3,  7, 11]])"
      ]
     },
     "execution_count": 189,
     "metadata": {},
     "output_type": "execute_result"
    }
   ],
   "source": [
    "np.transpose(a2)"
   ]
  },
  {
   "cell_type": "code",
   "execution_count": 190,
   "id": "89e7e696-6b90-47fd-ac1c-b217a49ed873",
   "metadata": {},
   "outputs": [
    {
     "data": {
      "text/plain": [
       "array([[ 0,  4,  8],\n",
       "       [ 1,  5,  9],\n",
       "       [ 2,  6, 10],\n",
       "       [ 3,  7, 11]])"
      ]
     },
     "execution_count": 190,
     "metadata": {},
     "output_type": "execute_result"
    }
   ],
   "source": [
    "a2.T"
   ]
  },
  {
   "cell_type": "code",
   "execution_count": 191,
   "id": "a3671993-a79f-4ca9-a340-3c73ae8a0332",
   "metadata": {},
   "outputs": [
    {
     "data": {
      "text/plain": [
       "array([[ 0,  1,  2,  3],\n",
       "       [ 4,  5,  6,  7],\n",
       "       [ 8,  9, 10, 11]])"
      ]
     },
     "execution_count": 191,
     "metadata": {},
     "output_type": "execute_result"
    }
   ],
   "source": [
    "a2"
   ]
  },
  {
   "cell_type": "code",
   "execution_count": 192,
   "id": "e0f2140d-4662-4938-9cbc-ea4a7e33f58c",
   "metadata": {},
   "outputs": [
    {
     "data": {
      "text/plain": [
       "array([[[ 0,  1,  2],\n",
       "        [ 3,  4,  5],\n",
       "        [ 6,  7,  8]],\n",
       "\n",
       "       [[ 9, 10, 11],\n",
       "        [12, 13, 14],\n",
       "        [15, 16, 17]],\n",
       "\n",
       "       [[18, 19, 20],\n",
       "        [21, 22, 23],\n",
       "        [24, 25, 26]]])"
      ]
     },
     "execution_count": 192,
     "metadata": {},
     "output_type": "execute_result"
    }
   ],
   "source": [
    "a3"
   ]
  },
  {
   "cell_type": "code",
   "execution_count": 193,
   "id": "01ee9f4e-48f0-4297-a638-35098a2ea37a",
   "metadata": {},
   "outputs": [
    {
     "name": "stdout",
     "output_type": "stream",
     "text": [
      "[ 0  1  2  3  4  5  6  7  8  9 10 11]\n",
      "[ 0  1  2  3  4  5  6  7  8  9 10 11 12 13 14 15 16 17 18 19 20 21 22 23\n",
      " 24 25 26]\n"
     ]
    }
   ],
   "source": [
    "print(a2.ravel())\n",
    "print(a3.ravel())"
   ]
  },
  {
   "cell_type": "markdown",
   "id": "1c9c5732-4ee4-420c-9add-7c027751e808",
   "metadata": {},
   "source": [
    "1. **Horizontal stacking** (`np.hstack`):\r\n",
    "   - Joins arrays along their horizontal axis (column-wise).\r\n",
    "   - The arrays must have the same number of row]\r\n",
    "   ```\r\n",
    "\r\n",
    "2. **Vertical stacking** (`np.vstack`):\r\n",
    "   - Joins arrays along their vertical axis (row-wise).\r\n",
    "   - The arrays must have the same numbe 2], [3, 4]]\r\n",
    "   ```"
   ]
  },
  {
   "cell_type": "code",
   "execution_count": 201,
   "id": "c73f864c-e260-41d3-9e53-6b522191c7b4",
   "metadata": {},
   "outputs": [
    {
     "name": "stdout",
     "output_type": "stream",
     "text": [
      "[[0 1 2]\n",
      " [3 4 5]]\n",
      "[[0 1 2]\n",
      " [3 4 5]]\n",
      "[[0 1 2 0 1 2]\n",
      " [3 4 5 3 4 5]]\n",
      "(2, 6)\n"
     ]
    }
   ],
   "source": [
    "a = np.arange(6).reshape(2, 3)\n",
    "b = np.arange(6).reshape(2, 3)\n",
    "print(a)\n",
    "print(b)\n",
    "result = np.hstack((a, b)) \n",
    "print(result)\n",
    "print(result.shape)"
   ]
  },
  {
   "cell_type": "code",
   "execution_count": 202,
   "id": "16a204a6-6ca0-43a7-8f69-e1a889918d06",
   "metadata": {},
   "outputs": [
    {
     "name": "stdout",
     "output_type": "stream",
     "text": [
      "[[0 1 2]\n",
      " [3 4 5]]\n",
      "[[0 1 2]\n",
      " [3 4 5]]\n",
      "[[0 1 2]\n",
      " [3 4 5]\n",
      " [0 1 2]\n",
      " [3 4 5]]\n",
      "(4, 3)\n"
     ]
    }
   ],
   "source": [
    "a = np.arange(6).reshape(2, 3)\n",
    "b = np.arange(6).reshape(2, 3)\n",
    "print(a)\n",
    "print(b)\n",
    "result = np.vstack((a, b)) \n",
    "print(result)\n",
    "print(result.shape)"
   ]
  },
  {
   "cell_type": "code",
   "execution_count": 204,
   "id": "50dff53b-244c-4510-a248-a96060b3eff5",
   "metadata": {},
   "outputs": [
    {
     "name": "stdout",
     "output_type": "stream",
     "text": [
      "[[ 1  2  3  7  8  9 13 14 15 19 20 21]\n",
      " [ 4  5  6 10 11 12 16 17 18 22 23 24]]\n",
      "(2, 12)\n"
     ]
    }
   ],
   "source": [
    "a = np.array([[1, 2, 3], [4, 5, 6]])\n",
    "b = np.array([[7, 8, 9], [10, 11, 12]])\n",
    "c = np.array([[13, 14, 15], [16, 17, 18]])\n",
    "d = np.array([[19, 20, 21], [22, 23, 24]])\n",
    "\n",
    "result = np.hstack((a, b, c, d))\n",
    "print(result)\n",
    "print(result.shape)"
   ]
  },
  {
   "cell_type": "markdown",
   "id": "b41e712d-56f2-40ae-8e0e-615ec624be63",
   "metadata": {},
   "source": [
    "In NumPy, you can split arrays horizontally and vertically using `np.hsplit` (horizontal split) and `np.vsplit` (vertical split). Here's how it works:\n",
    "\n",
    "### **Horizontal Splitting** (`np.hsplit`):\n",
    "- Splits an array along the horizontal axis (column-wise).\n",
    "- The array must have columns divisible by the number of splits.\n",
    "\n",
    "### **Vertical Splitting** (`np.vsplit`):\n",
    "- Splits an array along the vertical axis (row-wise).\n",
    "- The array must have rows divisible by the number of splits.\n",
    "\n",
    "These functions help you divide arrays into equal sub-arrays along the specified axis."
   ]
  },
  {
   "cell_type": "code",
   "execution_count": 211,
   "id": "844178e3-9e39-48a4-acdf-a95ba2a5f91b",
   "metadata": {},
   "outputs": [
    {
     "data": {
      "text/plain": [
       "[array([[1, 2],\n",
       "        [7, 8]]),\n",
       " array([[ 3,  4],\n",
       "        [ 9, 10]]),\n",
       " array([[ 5,  6],\n",
       "        [11, 12]])]"
      ]
     },
     "execution_count": 211,
     "metadata": {},
     "output_type": "execute_result"
    }
   ],
   "source": [
    "a = np.array([[1, 2, 3, 4, 5, 6], \n",
    "              [7, 8, 9, 10, 11, 12]])\n",
    "\n",
    "result = np.hsplit(a, 3)  # Split into 3 equal parts vertically stack ka just ulta\n",
    "result"
   ]
  },
  {
   "cell_type": "code",
   "execution_count": 212,
   "id": "549ce20e-a8e0-4728-bd8a-f3b7f83a6109",
   "metadata": {},
   "outputs": [
    {
     "data": {
      "text/plain": [
       "[array([[1, 2, 3, 4],\n",
       "        [5, 6, 7, 8]]),\n",
       " array([[ 9, 10, 11, 12],\n",
       "        [13, 14, 15, 16]])]"
      ]
     },
     "execution_count": 212,
     "metadata": {},
     "output_type": "execute_result"
    }
   ],
   "source": [
    "a = np.array([[1, 2, 3, 4], \n",
    "              [5, 6, 7, 8], \n",
    "              [9, 10, 11, 12], \n",
    "              [13, 14, 15, 16]])\n",
    "\n",
    "result = np.vsplit(a, 2)  # Split into 2 equal parts horizontally stack ka just ulta\n",
    "result"
   ]
  },
  {
   "cell_type": "code",
   "execution_count": null,
   "id": "5dfe2e55-2e69-4460-94d5-80cb020faeff",
   "metadata": {},
   "outputs": [],
   "source": []
  }
 ],
 "metadata": {
  "kernelspec": {
   "display_name": "Python 3 (ipykernel)",
   "language": "python",
   "name": "python3"
  },
  "language_info": {
   "codemirror_mode": {
    "name": "ipython",
    "version": 3
   },
   "file_extension": ".py",
   "mimetype": "text/x-python",
   "name": "python",
   "nbconvert_exporter": "python",
   "pygments_lexer": "ipython3",
   "version": "3.11.7"
  }
 },
 "nbformat": 4,
 "nbformat_minor": 5
}
